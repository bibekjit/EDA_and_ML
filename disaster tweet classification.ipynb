{
 "cells": [
  {
   "cell_type": "code",
   "execution_count": 1,
   "id": "ad033cf4",
   "metadata": {},
   "outputs": [],
   "source": [
    "import pandas as pd\n",
    "import matplotlib.pyplot as plt\n",
    "import spacy\n",
    "import numpy as np\n",
    "import string\n",
    "import validators as val\n",
    "import seaborn as sb\n",
    "from yake import KeywordExtractor\n",
    "from tqdm import tqdm\n",
    "\n",
    "from sklearn.metrics import confusion_matrix, classification_report, f1_score, accuracy_score\n",
    "from sklearn.model_selection import train_test_split, StratifiedKFold\n",
    "\n",
    "import tensorflow as tf\n",
    "from tensorflow.keras.preprocessing.text import Tokenizer\n",
    "from tensorflow.keras.preprocessing.sequence import pad_sequences\n",
    "from tensorflow.keras.layers import LSTM, Dense, Embedding, Input, BatchNormalization, Dropout, Layer\n",
    "from tensorflow.keras.models import Model\n",
    "from tensorflow.keras.optimizers import Adam\n",
    "from tensorflow.keras import backend as K\n",
    "\n",
    "en_model = spacy.load('en_core_web_md')"
   ]
  },
  {
   "cell_type": "code",
   "execution_count": 2,
   "id": "d6bc5c4e",
   "metadata": {},
   "outputs": [
    {
     "name": "stdout",
     "output_type": "stream",
     "text": [
      "<class 'pandas.core.frame.DataFrame'>\n",
      "RangeIndex: 7613 entries, 0 to 7612\n",
      "Data columns (total 5 columns):\n",
      " #   Column    Non-Null Count  Dtype \n",
      "---  ------    --------------  ----- \n",
      " 0   id        7613 non-null   int64 \n",
      " 1   keyword   7552 non-null   object\n",
      " 2   location  5080 non-null   object\n",
      " 3   text      7613 non-null   object\n",
      " 4   target    7613 non-null   int64 \n",
      "dtypes: int64(2), object(3)\n",
      "memory usage: 297.5+ KB\n"
     ]
    }
   ],
   "source": [
    "df = pd.read_csv('train.csv',encoding='utf-8')\n",
    "df.info()"
   ]
  },
  {
   "cell_type": "code",
   "execution_count": 3,
   "id": "50c39523",
   "metadata": {},
   "outputs": [
    {
     "name": "stdout",
     "output_type": "stream",
     "text": [
      "0    4342\n",
      "1    3271\n",
      "Name: target, dtype: int64\n"
     ]
    },
    {
     "data": {
      "text/plain": [
       "<AxesSubplot:xlabel='target', ylabel='count'>"
      ]
     },
     "execution_count": 3,
     "metadata": {},
     "output_type": "execute_result"
    },
    {
     "data": {
      "image/png": "[encoded data removed]",
      "text/plain": [
       "<Figure size 432x288 with 1 Axes>"
      ]
     },
     "metadata": {
      "needs_background": "light"
     },
     "output_type": "display_data"
    }
   ],
   "source": [
    "# check target class counts\n",
    "print(df.target.value_counts())\n",
    "sb.countplot(x=df.target)"
   ]
  },
  {
   "cell_type": "code",
   "execution_count": 4,
   "id": "f876b095",
   "metadata": {},
   "outputs": [
    {
     "name": "stdout",
     "output_type": "stream",
     "text": [
      "keyword 0.008012610009194798\n",
      "location 0.33272034677525286\n"
     ]
    }
   ],
   "source": [
    "# check for missing data\n",
    "for col in df.columns:\n",
    "    if df[col].isnull().mean()>0:\n",
    "        print(col,df[col].isnull().mean())"
   ]
  },
  {
   "cell_type": "code",
   "execution_count": 5,
   "id": "5df92474",
   "metadata": {},
   "outputs": [],
   "source": [
    "# drop location column and fill keyword column with the mode value\n",
    "df = df[['text','target','keyword']].fillna('nill')"
   ]
  },
  {
   "cell_type": "code",
   "execution_count": 6,
   "id": "c7e924ab",
   "metadata": {},
   "outputs": [],
   "source": [
    "# clean keyword column\n",
    "def clean_keyword(x):\n",
    "    x = x.replace('%20',' ')\n",
    "    tok = en_model(x)\n",
    "    tok = [str(x.lemma_) for x in tok]\n",
    "    return ' '.join(tok)\n",
    "\n",
    "df.keyword = df.keyword.apply(lambda x: clean_keyword(x))"
   ]
  },
  {
   "cell_type": "code",
   "execution_count": 7,
   "id": "5d6aa462",
   "metadata": {},
   "outputs": [],
   "source": [
    "# text cleaning function\n",
    "# removes numbers, URLs, stopwords, punctuations and twitter handles\n",
    "\n",
    "def clean_text(text):\n",
    "    toks = text.split()\n",
    "    toks = [t for t in toks if not val.url(t) and '@' not in t]\n",
    "    toks = ' '.join(toks)\n",
    "    for p in string.punctuation:\n",
    "        if p not in ('#','@'):\n",
    "            toks = toks.replace(p,' ')\n",
    "    \n",
    "    toks = toks.lower().split()\n",
    "    toks = [t for t in toks if '@' not in t]\n",
    "    toks = en_model(\" \".join(toks))\n",
    "    toks = [t for t in toks if str(t)!=\"'s\"]\n",
    "    toks = [t for t in toks if not t.is_stop and not t.is_digit]\n",
    "    toks = [str(t) for t in toks if len(str(t))>1]\n",
    "    return ' '.join(toks)"
   ]
  },
  {
   "cell_type": "code",
   "execution_count": 8,
   "id": "5c29de7d",
   "metadata": {},
   "outputs": [
    {
     "name": "stdout",
     "output_type": "stream",
     "text": [
      "Original : Have you read this awesome book yet?  The Two Trillion Dollar Meltdown  http://t.co/jPA6sajFE3\n",
      "Cleaned : read awesome book trillion dollar meltdown\n",
      "target : 0\n",
      "\n",
      "Original : Jun 2015. Yemenis search for survivors under the rubble of houses in the old city of SanÛªa following an... http://t.co/11JUzHlgmT\n",
      "Cleaned : jun yemenis search survivors rubble houses old city sanûªa following\n",
      "target : 1\n",
      "\n",
      "Original : A new type of ADHD? Head injuries in children linked to long-term attention problems http://t.co/I4FZ75Utnh\n",
      "Cleaned : new type adhd head injuries children linked long term attention problems\n",
      "target : 0\n",
      "\n",
      "Original : @iamHorsefly hide your kids hide your wife. He's on the loose. I thought I flattened you with a ball ????\n",
      "Cleaned : hide kids hide wife loose thought flattened ball\n",
      "target : 0\n",
      "\n",
      "Original : Madhya Pradesh Train Derailment: Village Youth Saved Many Lives: A group of villagers saved over 70 passengers' lives after two train...\n",
      "Cleaned : madhya pradesh train derailment village youth saved lives group villagers saved passengers lives train\n",
      "target : 1\n",
      "\n"
     ]
    }
   ],
   "source": [
    "# original vs cleaned\n",
    "for _ in range(5):\n",
    "    i = np.random.randint(0,len(df))\n",
    "    print('Original : '+df.text[i]+'\\nCleaned : '+clean_text(df.text[i]))\n",
    "    print('target :',df.target[i])\n",
    "    print()"
   ]
  },
  {
   "cell_type": "code",
   "execution_count": 9,
   "id": "457a1933",
   "metadata": {},
   "outputs": [
    {
     "data": {
      "text/plain": [
       "<AxesSubplot:xlabel='word_count', ylabel='Count'>"
      ]
     },
     "execution_count": 9,
     "metadata": {},
     "output_type": "execute_result"
    },
    {
     "data": {
      "image/png": "[encoded data removed]",
      "text/plain": [
       "<Figure size 432x288 with 1 Axes>"
      ]
     },
     "metadata": {
      "needs_background": "light"
     },
     "output_type": "display_data"
    }
   ],
   "source": [
    "# clean tweet \n",
    "df['clean_text'] = df.text.apply(lambda x: clean_text(x))\n",
    "\n",
    "# get word count of each tweet after cleaning\n",
    "df['word_count'] = df.clean_text.apply(lambda x: len(x.split()))\n",
    "\n",
    "# distribution of word count\n",
    "sb.histplot(data=df,x='word_count',hue='target',bins=20)"
   ]
  },
  {
   "cell_type": "code",
   "execution_count": 10,
   "id": "7318161f",
   "metadata": {},
   "outputs": [
    {
     "name": "stderr",
     "output_type": "stream",
     "text": [
      "C:\\Users\\BJS\\AppData\\Local\\Temp\\ipykernel_19260\\1585185542.py:10: SettingWithCopyWarning: \n",
      "A value is trying to be set on a copy of a slice from a DataFrame\n",
      "\n",
      "See the caveats in the documentation: https://pandas.pydata.org/pandas-docs/stable/user_guide/indexing.html#returning-a-view-versus-a-copy\n",
      "  df.keyword.loc[i] = kw[0]\n",
      "C:\\Users\\BJS\\AppData\\Local\\Temp\\ipykernel_19260\\1585185542.py:12: SettingWithCopyWarning: \n",
      "A value is trying to be set on a copy of a slice from a DataFrame\n",
      "\n",
      "See the caveats in the documentation: https://pandas.pydata.org/pandas-docs/stable/user_guide/indexing.html#returning-a-view-versus-a-copy\n",
      "  df.keyword.loc[i] = df.keyword.mode()[0]\n",
      "C:\\Users\\BJS\\AppData\\Local\\Temp\\ipykernel_19260\\1585185542.py:10: SettingWithCopyWarning: \n",
      "A value is trying to be set on a copy of a slice from a DataFrame\n",
      "\n",
      "See the caveats in the documentation: https://pandas.pydata.org/pandas-docs/stable/user_guide/indexing.html#returning-a-view-versus-a-copy\n",
      "  df.keyword.loc[i] = kw[0]\n",
      "C:\\Users\\BJS\\AppData\\Local\\Temp\\ipykernel_19260\\1585185542.py:12: SettingWithCopyWarning: \n",
      "A value is trying to be set on a copy of a slice from a DataFrame\n",
      "\n",
      "See the caveats in the documentation: https://pandas.pydata.org/pandas-docs/stable/user_guide/indexing.html#returning-a-view-versus-a-copy\n",
      "  df.keyword.loc[i] = df.keyword.mode()[0]\n",
      "C:\\Users\\BJS\\AppData\\Local\\Temp\\ipykernel_19260\\1585185542.py:12: SettingWithCopyWarning: \n",
      "A value is trying to be set on a copy of a slice from a DataFrame\n",
      "\n",
      "See the caveats in the documentation: https://pandas.pydata.org/pandas-docs/stable/user_guide/indexing.html#returning-a-view-versus-a-copy\n",
      "  df.keyword.loc[i] = df.keyword.mode()[0]\n",
      "C:\\Users\\BJS\\AppData\\Local\\Temp\\ipykernel_19260\\1585185542.py:12: SettingWithCopyWarning: \n",
      "A value is trying to be set on a copy of a slice from a DataFrame\n",
      "\n",
      "See the caveats in the documentation: https://pandas.pydata.org/pandas-docs/stable/user_guide/indexing.html#returning-a-view-versus-a-copy\n",
      "  df.keyword.loc[i] = df.keyword.mode()[0]\n",
      "C:\\Users\\BJS\\AppData\\Local\\Temp\\ipykernel_19260\\1585185542.py:12: SettingWithCopyWarning: \n",
      "A value is trying to be set on a copy of a slice from a DataFrame\n",
      "\n",
      "See the caveats in the documentation: https://pandas.pydata.org/pandas-docs/stable/user_guide/indexing.html#returning-a-view-versus-a-copy\n",
      "  df.keyword.loc[i] = df.keyword.mode()[0]\n",
      "C:\\Users\\BJS\\AppData\\Local\\Temp\\ipykernel_19260\\1585185542.py:12: SettingWithCopyWarning: \n",
      "A value is trying to be set on a copy of a slice from a DataFrame\n",
      "\n",
      "See the caveats in the documentation: https://pandas.pydata.org/pandas-docs/stable/user_guide/indexing.html#returning-a-view-versus-a-copy\n",
      "  df.keyword.loc[i] = df.keyword.mode()[0]\n",
      "C:\\Users\\BJS\\AppData\\Local\\Temp\\ipykernel_19260\\1585185542.py:12: SettingWithCopyWarning: \n",
      "A value is trying to be set on a copy of a slice from a DataFrame\n",
      "\n",
      "See the caveats in the documentation: https://pandas.pydata.org/pandas-docs/stable/user_guide/indexing.html#returning-a-view-versus-a-copy\n",
      "  df.keyword.loc[i] = df.keyword.mode()[0]\n",
      "C:\\Users\\BJS\\AppData\\Local\\Temp\\ipykernel_19260\\1585185542.py:12: SettingWithCopyWarning: \n",
      "A value is trying to be set on a copy of a slice from a DataFrame\n",
      "\n",
      "See the caveats in the documentation: https://pandas.pydata.org/pandas-docs/stable/user_guide/indexing.html#returning-a-view-versus-a-copy\n",
      "  df.keyword.loc[i] = df.keyword.mode()[0]\n",
      "C:\\Users\\BJS\\AppData\\Local\\Temp\\ipykernel_19260\\1585185542.py:12: SettingWithCopyWarning: \n",
      "A value is trying to be set on a copy of a slice from a DataFrame\n",
      "\n",
      "See the caveats in the documentation: https://pandas.pydata.org/pandas-docs/stable/user_guide/indexing.html#returning-a-view-versus-a-copy\n",
      "  df.keyword.loc[i] = df.keyword.mode()[0]\n",
      "C:\\Users\\BJS\\AppData\\Local\\Temp\\ipykernel_19260\\1585185542.py:12: SettingWithCopyWarning: \n",
      "A value is trying to be set on a copy of a slice from a DataFrame\n",
      "\n",
      "See the caveats in the documentation: https://pandas.pydata.org/pandas-docs/stable/user_guide/indexing.html#returning-a-view-versus-a-copy\n",
      "  df.keyword.loc[i] = df.keyword.mode()[0]\n",
      "C:\\Users\\BJS\\AppData\\Local\\Temp\\ipykernel_19260\\1585185542.py:12: SettingWithCopyWarning: \n",
      "A value is trying to be set on a copy of a slice from a DataFrame\n",
      "\n",
      "See the caveats in the documentation: https://pandas.pydata.org/pandas-docs/stable/user_guide/indexing.html#returning-a-view-versus-a-copy\n",
      "  df.keyword.loc[i] = df.keyword.mode()[0]\n",
      "C:\\Users\\BJS\\AppData\\Local\\Temp\\ipykernel_19260\\1585185542.py:12: SettingWithCopyWarning: \n",
      "A value is trying to be set on a copy of a slice from a DataFrame\n",
      "\n",
      "See the caveats in the documentation: https://pandas.pydata.org/pandas-docs/stable/user_guide/indexing.html#returning-a-view-versus-a-copy\n",
      "  df.keyword.loc[i] = df.keyword.mode()[0]\n",
      "C:\\Users\\BJS\\AppData\\Local\\Temp\\ipykernel_19260\\1585185542.py:12: SettingWithCopyWarning: \n",
      "A value is trying to be set on a copy of a slice from a DataFrame\n",
      "\n",
      "See the caveats in the documentation: https://pandas.pydata.org/pandas-docs/stable/user_guide/indexing.html#returning-a-view-versus-a-copy\n",
      "  df.keyword.loc[i] = df.keyword.mode()[0]\n",
      "C:\\Users\\BJS\\AppData\\Local\\Temp\\ipykernel_19260\\1585185542.py:12: SettingWithCopyWarning: \n",
      "A value is trying to be set on a copy of a slice from a DataFrame\n",
      "\n",
      "See the caveats in the documentation: https://pandas.pydata.org/pandas-docs/stable/user_guide/indexing.html#returning-a-view-versus-a-copy\n",
      "  df.keyword.loc[i] = df.keyword.mode()[0]\n",
      "C:\\Users\\BJS\\AppData\\Local\\Temp\\ipykernel_19260\\1585185542.py:12: SettingWithCopyWarning: \n",
      "A value is trying to be set on a copy of a slice from a DataFrame\n",
      "\n",
      "See the caveats in the documentation: https://pandas.pydata.org/pandas-docs/stable/user_guide/indexing.html#returning-a-view-versus-a-copy\n",
      "  df.keyword.loc[i] = df.keyword.mode()[0]\n",
      "C:\\Users\\BJS\\AppData\\Local\\Temp\\ipykernel_19260\\1585185542.py:12: SettingWithCopyWarning: \n",
      "A value is trying to be set on a copy of a slice from a DataFrame\n",
      "\n",
      "See the caveats in the documentation: https://pandas.pydata.org/pandas-docs/stable/user_guide/indexing.html#returning-a-view-versus-a-copy\n",
      "  df.keyword.loc[i] = df.keyword.mode()[0]\n",
      "C:\\Users\\BJS\\AppData\\Local\\Temp\\ipykernel_19260\\1585185542.py:12: SettingWithCopyWarning: \n",
      "A value is trying to be set on a copy of a slice from a DataFrame\n",
      "\n",
      "See the caveats in the documentation: https://pandas.pydata.org/pandas-docs/stable/user_guide/indexing.html#returning-a-view-versus-a-copy\n",
      "  df.keyword.loc[i] = df.keyword.mode()[0]\n",
      "C:\\Users\\BJS\\AppData\\Local\\Temp\\ipykernel_19260\\1585185542.py:10: SettingWithCopyWarning: \n",
      "A value is trying to be set on a copy of a slice from a DataFrame\n",
      "\n",
      "See the caveats in the documentation: https://pandas.pydata.org/pandas-docs/stable/user_guide/indexing.html#returning-a-view-versus-a-copy\n",
      "  df.keyword.loc[i] = kw[0]\n",
      "C:\\Users\\BJS\\AppData\\Local\\Temp\\ipykernel_19260\\1585185542.py:12: SettingWithCopyWarning: \n",
      "A value is trying to be set on a copy of a slice from a DataFrame\n",
      "\n",
      "See the caveats in the documentation: https://pandas.pydata.org/pandas-docs/stable/user_guide/indexing.html#returning-a-view-versus-a-copy\n",
      "  df.keyword.loc[i] = df.keyword.mode()[0]\n",
      "C:\\Users\\BJS\\AppData\\Local\\Temp\\ipykernel_19260\\1585185542.py:10: SettingWithCopyWarning: \n",
      "A value is trying to be set on a copy of a slice from a DataFrame\n",
      "\n",
      "See the caveats in the documentation: https://pandas.pydata.org/pandas-docs/stable/user_guide/indexing.html#returning-a-view-versus-a-copy\n",
      "  df.keyword.loc[i] = kw[0]\n",
      "C:\\Users\\BJS\\AppData\\Local\\Temp\\ipykernel_19260\\1585185542.py:12: SettingWithCopyWarning: \n",
      "A value is trying to be set on a copy of a slice from a DataFrame\n",
      "\n",
      "See the caveats in the documentation: https://pandas.pydata.org/pandas-docs/stable/user_guide/indexing.html#returning-a-view-versus-a-copy\n",
      "  df.keyword.loc[i] = df.keyword.mode()[0]\n",
      "C:\\Users\\BJS\\AppData\\Local\\Temp\\ipykernel_19260\\1585185542.py:12: SettingWithCopyWarning: \n",
      "A value is trying to be set on a copy of a slice from a DataFrame\n",
      "\n",
      "See the caveats in the documentation: https://pandas.pydata.org/pandas-docs/stable/user_guide/indexing.html#returning-a-view-versus-a-copy\n",
      "  df.keyword.loc[i] = df.keyword.mode()[0]\n",
      "C:\\Users\\BJS\\AppData\\Local\\Temp\\ipykernel_19260\\1585185542.py:12: SettingWithCopyWarning: \n",
      "A value is trying to be set on a copy of a slice from a DataFrame\n",
      "\n",
      "See the caveats in the documentation: https://pandas.pydata.org/pandas-docs/stable/user_guide/indexing.html#returning-a-view-versus-a-copy\n",
      "  df.keyword.loc[i] = df.keyword.mode()[0]\n",
      "C:\\Users\\BJS\\AppData\\Local\\Temp\\ipykernel_19260\\1585185542.py:12: SettingWithCopyWarning: \n",
      "A value is trying to be set on a copy of a slice from a DataFrame\n",
      "\n",
      "See the caveats in the documentation: https://pandas.pydata.org/pandas-docs/stable/user_guide/indexing.html#returning-a-view-versus-a-copy\n",
      "  df.keyword.loc[i] = df.keyword.mode()[0]\n",
      "C:\\Users\\BJS\\AppData\\Local\\Temp\\ipykernel_19260\\1585185542.py:10: SettingWithCopyWarning: \n",
      "A value is trying to be set on a copy of a slice from a DataFrame\n",
      "\n",
      "See the caveats in the documentation: https://pandas.pydata.org/pandas-docs/stable/user_guide/indexing.html#returning-a-view-versus-a-copy\n",
      "  df.keyword.loc[i] = kw[0]\n",
      "C:\\Users\\BJS\\AppData\\Local\\Temp\\ipykernel_19260\\1585185542.py:12: SettingWithCopyWarning: \n",
      "A value is trying to be set on a copy of a slice from a DataFrame\n",
      "\n",
      "See the caveats in the documentation: https://pandas.pydata.org/pandas-docs/stable/user_guide/indexing.html#returning-a-view-versus-a-copy\n",
      "  df.keyword.loc[i] = df.keyword.mode()[0]\n",
      "C:\\Users\\BJS\\AppData\\Local\\Temp\\ipykernel_19260\\1585185542.py:10: SettingWithCopyWarning: \n",
      "A value is trying to be set on a copy of a slice from a DataFrame\n",
      "\n",
      "See the caveats in the documentation: https://pandas.pydata.org/pandas-docs/stable/user_guide/indexing.html#returning-a-view-versus-a-copy\n",
      "  df.keyword.loc[i] = kw[0]\n",
      "C:\\Users\\BJS\\AppData\\Local\\Temp\\ipykernel_19260\\1585185542.py:12: SettingWithCopyWarning: \n",
      "A value is trying to be set on a copy of a slice from a DataFrame\n",
      "\n",
      "See the caveats in the documentation: https://pandas.pydata.org/pandas-docs/stable/user_guide/indexing.html#returning-a-view-versus-a-copy\n",
      "  df.keyword.loc[i] = df.keyword.mode()[0]\n"
     ]
    },
    {
     "name": "stderr",
     "output_type": "stream",
     "text": [
      "C:\\Users\\BJS\\AppData\\Local\\Temp\\ipykernel_19260\\1585185542.py:10: SettingWithCopyWarning: \n",
      "A value is trying to be set on a copy of a slice from a DataFrame\n",
      "\n",
      "See the caveats in the documentation: https://pandas.pydata.org/pandas-docs/stable/user_guide/indexing.html#returning-a-view-versus-a-copy\n",
      "  df.keyword.loc[i] = kw[0]\n",
      "C:\\Users\\BJS\\AppData\\Local\\Temp\\ipykernel_19260\\1585185542.py:12: SettingWithCopyWarning: \n",
      "A value is trying to be set on a copy of a slice from a DataFrame\n",
      "\n",
      "See the caveats in the documentation: https://pandas.pydata.org/pandas-docs/stable/user_guide/indexing.html#returning-a-view-versus-a-copy\n",
      "  df.keyword.loc[i] = df.keyword.mode()[0]\n",
      "C:\\Users\\BJS\\AppData\\Local\\Temp\\ipykernel_19260\\1585185542.py:10: SettingWithCopyWarning: \n",
      "A value is trying to be set on a copy of a slice from a DataFrame\n",
      "\n",
      "See the caveats in the documentation: https://pandas.pydata.org/pandas-docs/stable/user_guide/indexing.html#returning-a-view-versus-a-copy\n",
      "  df.keyword.loc[i] = kw[0]\n",
      "C:\\Users\\BJS\\AppData\\Local\\Temp\\ipykernel_19260\\1585185542.py:12: SettingWithCopyWarning: \n",
      "A value is trying to be set on a copy of a slice from a DataFrame\n",
      "\n",
      "See the caveats in the documentation: https://pandas.pydata.org/pandas-docs/stable/user_guide/indexing.html#returning-a-view-versus-a-copy\n",
      "  df.keyword.loc[i] = df.keyword.mode()[0]\n",
      "C:\\Users\\BJS\\AppData\\Local\\Temp\\ipykernel_19260\\1585185542.py:10: SettingWithCopyWarning: \n",
      "A value is trying to be set on a copy of a slice from a DataFrame\n",
      "\n",
      "See the caveats in the documentation: https://pandas.pydata.org/pandas-docs/stable/user_guide/indexing.html#returning-a-view-versus-a-copy\n",
      "  df.keyword.loc[i] = kw[0]\n"
     ]
    }
   ],
   "source": [
    "# 0.8% of the values in the keyword column are missing.\n",
    "# impute with the extracted keywords from the cleaned text\n",
    "\n",
    "for i in df[df.keyword=='nill'].index:\n",
    "    text = df.clean_text[i]\n",
    "    ex = KeywordExtractor(n=1)\n",
    "    kw = ex.extract_keywords(text)\n",
    "    kw = [k[0] for k in kw if k[0] in df.keyword.unique()]\n",
    "    if len(kw)>0:\n",
    "        df.keyword.loc[i] = kw[0]\n",
    "    else:\n",
    "        df.keyword.loc[i] = df.keyword.mode()[0]  "
   ]
  },
  {
   "cell_type": "code",
   "execution_count": 11,
   "id": "4ac0cbe1",
   "metadata": {},
   "outputs": [
    {
     "data": {
      "text/plain": [
       "(8.857230204830326, 1, 21)"
      ]
     },
     "execution_count": 11,
     "metadata": {},
     "output_type": "execute_result"
    }
   ],
   "source": [
    "# average word count, minimum length and max length of disaster tweets\n",
    "df[df.target==1].word_count.mean(),df[df.target==1].word_count.min(),df[df.target==1].word_count.max()"
   ]
  },
  {
   "cell_type": "code",
   "execution_count": 12,
   "id": "6f391f7c",
   "metadata": {},
   "outputs": [
    {
     "data": {
      "text/plain": [
       "(7.66305849838784, 0, 20)"
      ]
     },
     "execution_count": 12,
     "metadata": {},
     "output_type": "execute_result"
    }
   ],
   "source": [
    "# average word count, minimum length and max length of non-disaster tweets\n",
    "df[df.target==0].word_count.mean(),df[df.target==0].word_count.min(),df[df.target==0].word_count.max()"
   ]
  },
  {
   "cell_type": "code",
   "execution_count": 13,
   "id": "79662924",
   "metadata": {},
   "outputs": [],
   "source": [
    "x = df.keyword + ' ' + df.clean_text #cleaned input text\n",
    "y = df.target #target feature\n",
    "\n",
    "# get length of max input length\n",
    "maxlen = 0\n",
    "for i in x:\n",
    "    if len(i.split())>maxlen: maxlen=len(i.split())\n",
    "\n",
    "# split data for training, testing and validation to (70:20:10)\n",
    "xtrain,xtest,ytrain,ytest = train_test_split(x,y,train_size=0.7)\n",
    "xtest,xval,ytest,yval = train_test_split(xtest,ytest,train_size=0.7)"
   ]
  },
  {
   "cell_type": "code",
   "execution_count": 14,
   "id": "4044be17",
   "metadata": {},
   "outputs": [
    {
     "data": {
      "text/plain": [
       "((5329, 23), (686, 23), (1598, 23))"
      ]
     },
     "execution_count": 14,
     "metadata": {},
     "output_type": "execute_result"
    }
   ],
   "source": [
    "# tokenizing and padding\n",
    "\n",
    "tk = Tokenizer()\n",
    "tk.fit_on_texts(x)\n",
    "\n",
    "seq = tk.texts_to_sequences(xtrain)\n",
    "xtrain = pad_sequences(seq,maxlen=maxlen,padding='post')\n",
    "\n",
    "seq = tk.texts_to_sequences(xval)\n",
    "xval = pad_sequences(seq,maxlen=maxlen,padding='post')\n",
    "\n",
    "seq = tk.texts_to_sequences(xtest)\n",
    "xtest = pad_sequences(seq,maxlen=maxlen,padding='post')\n",
    "\n",
    "x_voc = len(tk.word_counts)+1\n",
    "\n",
    "xtrain.shape,xval.shape,xtest.shape"
   ]
  },
  {
   "cell_type": "code",
   "execution_count": 15,
   "id": "858c1e3d",
   "metadata": {},
   "outputs": [
    {
     "name": "stdout",
     "output_type": "stream",
     "text": [
      "Loading Glove Model\n",
      "400000 words loaded!\n"
     ]
    }
   ],
   "source": [
    "# load glove vectors\n",
    "def load_glove_model(File):\n",
    "    print(\"Loading Glove Model\")\n",
    "    glove_model = {}\n",
    "    with open(File,'r',encoding='utf-8') as f:\n",
    "        for line in f:\n",
    "            split_line = line.split()\n",
    "            word = split_line[0]\n",
    "            embedding = np.array(split_line[1:], dtype=np.float64)\n",
    "            glove_model[word] = embedding\n",
    "    print(f\"{len(glove_model)} words loaded!\")\n",
    "    return glove_model\n",
    " \n",
    "glove_embeddings = load_glove_model(\"D:/glove.6B.300d.txt\")"
   ]
  },
  {
   "cell_type": "code",
   "execution_count": 16,
   "id": "769f97bf",
   "metadata": {},
   "outputs": [],
   "source": [
    "# create pretrained embedding matrix\n",
    "emb = np.zeros((x_voc,300))\n",
    "for w,idx in tk.word_index.items():\n",
    "    try: emb[idx] = glove_embeddings[w]\n",
    "    except: pass"
   ]
  },
  {
   "cell_type": "code",
   "execution_count": 17,
   "id": "6d0a039c",
   "metadata": {},
   "outputs": [],
   "source": [
    "# linear attetion layer\n",
    "class LinearAttention(tf.keras.layers.Layer):\n",
    "    def __init__(self,**kwargs):\n",
    "        super().__init__(**kwargs)\n",
    "    \n",
    "    def build(self,input_shape):\n",
    "        self.W=self.add_weight(name='attention_weight', shape=(input_shape[-1],1), \n",
    "                               initializer='random_normal', trainable=True)\n",
    "        self.b=self.add_weight(name='attention_bias', shape=(input_shape[1],1), \n",
    "                               initializer='zeros', trainable=True)\n",
    "        super().build(input_shape)\n",
    " \n",
    "    \n",
    "    def call(self,x):\n",
    "        e = K.tanh(K.dot(x,self.W)+self.b)\n",
    "        e = K.squeeze(e, axis=-1)   \n",
    "        alpha = K.softmax(e)\n",
    "        alpha = K.expand_dims(alpha, axis=-1)\n",
    "        context = x * alpha\n",
    "        context = K.sum(context, axis=1)\n",
    "        return context\n"
   ]
  },
  {
   "cell_type": "code",
   "execution_count": 18,
   "id": "a6180e08",
   "metadata": {},
   "outputs": [],
   "source": [
    "# classification model\n",
    "\n",
    "class TweetClassificationModel(tf.keras.models.Model):\n",
    "    def __init__(self,rnn_units,vocab_size,embedding_weights,emb_dim,**kwargs):\n",
    "        super().__init__(**kwargs)\n",
    "        self.rnn_units=rnn_units\n",
    "        self.vocab_size = vocab_size\n",
    "        self.emb_dim = emb_dim\n",
    "        self.embedding_weights = embedding_weights\n",
    "    \n",
    "    def build(self,input_shape):\n",
    "        self.emb = Embedding(self.vocab_size,self.emb_dim,weights=[self.embedding_weights])\n",
    "        self.lstm = LSTM(self.rnn_units,return_sequences=True)\n",
    "        self.dense = Dense(100,activation='relu')\n",
    "        self.dropout = Dropout(0.1)\n",
    "        self.attn = LinearAttention()\n",
    "        self.out_put = Dense(1,activation='sigmoid')\n",
    "        self.bn = BatchNormalization()\n",
    "        super().build(input_shape)\n",
    "    \n",
    "    def call(self,x):\n",
    "        x = self.emb(x)\n",
    "        x = self.lstm(x)\n",
    "        x = self.attn(x)\n",
    "        x = self.dense(x)\n",
    "        x = self.dropout(x)\n",
    "        x = self.bn(x)\n",
    "        return self.out_put(x)\n",
    "    \n",
    "    def summary(self,input_len):\n",
    "        x = Input(shape=(input_len,))\n",
    "        m = Model(x,self.call(x))\n",
    "        return m.summary()\n",
    "    \n",
    "    def get_config(self):\n",
    "        config = super().get_config()\n",
    "        config.update({\n",
    "            'rnn_units':self.rnn_units,\n",
    "            'vocab_size':self.vocab_size,\n",
    "            'emb_dim':self.emb_dim,\n",
    "            'embedding_weights':self.embedding_weights})\n",
    "        return config\n",
    "    \n",
    "\n",
    "    "
   ]
  },
  {
   "cell_type": "code",
   "execution_count": 19,
   "id": "a0867c50",
   "metadata": {},
   "outputs": [
    {
     "name": "stdout",
     "output_type": "stream",
     "text": [
      "Model: \"model\"\n",
      "_________________________________________________________________\n",
      " Layer (type)                Output Shape              Param #   \n",
      "=================================================================\n",
      " input_1 (InputLayer)        [(None, 23)]              0         \n",
      "                                                                 \n",
      " embedding (Embedding)       (None, 23, 300)           4332600   \n",
      "                                                                 \n",
      " lstm (LSTM)                 (None, 23, 200)           400800    \n",
      "                                                                 \n",
      " linear_attention (LinearAtt  (None, 200)              223       \n",
      " ention)                                                         \n",
      "                                                                 \n",
      " dense (Dense)               (None, 100)               20100     \n",
      "                                                                 \n",
      " dropout (Dropout)           (None, 100)               0         \n",
      "                                                                 \n",
      " batch_normalization (BatchN  (None, 100)              400       \n",
      " ormalization)                                                   \n",
      "                                                                 \n",
      " dense_1 (Dense)             (None, 1)                 101       \n",
      "                                                                 \n",
      "=================================================================\n",
      "Total params: 4,754,224\n",
      "Trainable params: 4,754,024\n",
      "Non-trainable params: 200\n",
      "_________________________________________________________________\n"
     ]
    }
   ],
   "source": [
    "# initiate and build model\n",
    "\n",
    "model = TweetClassificationModel(rnn_units=200,\n",
    "                                vocab_size=x_voc,\n",
    "                                embedding_weights=emb,\n",
    "                                emb_dim=300)\n",
    "\n",
    "model.build((None,maxlen))\n",
    "\n",
    "model.summary(maxlen)"
   ]
  },
  {
   "cell_type": "code",
   "execution_count": 20,
   "id": "3a4e7371",
   "metadata": {},
   "outputs": [],
   "source": [
    "\n",
    "loss_func = tf.keras.losses.BinaryCrossentropy() #binary_crossentropy loss\n",
    "acc_func = tf.keras.metrics.BinaryAccuracy() #binary_accuracy\n",
    "optimizer = Adam(learning_rate=1e-5) #adam optimizer\n"
   ]
  },
  {
   "cell_type": "code",
   "execution_count": 21,
   "id": "463ff22a",
   "metadata": {},
   "outputs": [],
   "source": [
    "@tf.function\n",
    "def train_step(x,y):\n",
    "    with tf.GradientTape() as tape:\n",
    "        pred = model(x, training=True)\n",
    "        loss = loss_func(y,pred)\n",
    "    gradients = tape.gradient(loss, model.trainable_weights)\n",
    "    optimizer.apply_gradients(zip(gradients,model.trainable_weights))\n",
    "    acc_func.update_state(y,pred)\n",
    "    return loss\n",
    "\n",
    "@tf.function\n",
    "def validation_step(x,y):\n",
    "    pred = model(x, training=False)\n",
    "    loss = loss_func(y,pred)\n",
    "    acc = acc_func.update_state(y,pred)\n",
    "    return loss"
   ]
  },
  {
   "cell_type": "code",
   "execution_count": 22,
   "id": "cf643a40",
   "metadata": {},
   "outputs": [],
   "source": [
    "def train_model(epochs,trainin_data,validation_data,verbose=False, save_weights=True, filename='best_weights',batch_size=32):\n",
    "    \n",
    "    train = tf.data.Dataset.from_tensor_slices(trainin_data).batch(batch_size)\n",
    "    val = tf.data.Dataset.from_tensor_slices(validation_data).batch(batch_size)\n",
    "    \n",
    "    metrics = {'train_loss':[],'val_loss':[],'train_acc':[],'val_acc':[]}\n",
    "    \n",
    "    val_loss, train_loss = 0, 0\n",
    "\n",
    "    for e in range(epochs):\n",
    "        if not verbose:\n",
    "            print(f'Epochs = {e+1}/{epochs}')\n",
    "        for i,(x,y) in enumerate(tqdm(train,disable=verbose)):\n",
    "            loss = train_step(x,y)\n",
    "            train_loss += loss\n",
    "        \n",
    "        train_loss = train_loss.numpy()/(i+1)\n",
    "        train_acc = float(acc_func.result().numpy())\n",
    "        acc_func.reset_states()\n",
    "        \n",
    "        for i,(x,y) in enumerate(val):\n",
    "            loss = validation_step(x,y)\n",
    "            val_loss += loss\n",
    "        \n",
    "        val_loss = val_loss.numpy()/(i+1)\n",
    "        val_acc = float(acc_func.result().numpy())\n",
    "        acc_func.reset_states()\n",
    "        \n",
    "        metrics['train_loss'].append(train_loss)\n",
    "        metrics['train_acc'].append(train_acc)\n",
    "        metrics['val_loss'].append(val_loss)\n",
    "        metrics['val_acc'].append(val_acc)\n",
    "    \n",
    "        if save_weights and e+1>1:\n",
    "            if min(metrics['val_loss'][:-1]) > val_loss:\n",
    "                model.save_weights(filename)\n",
    "        \n",
    "        if not verbose :   \n",
    "            print(f'train_loss = {np.round(train_loss,4)}  train_acc = {np.round(train_acc,4)}  '\\\n",
    "                  f'val_loss = {np.round(val_loss,4)}  val_acc = {np.round(val_acc,4)}\\n')\n",
    "        \n",
    "        val_loss = 0\n",
    "        train_loss = 0\n",
    "        \n",
    "    return metrics\n",
    "        \n",
    "        \n",
    "    "
   ]
  },
  {
   "cell_type": "code",
   "execution_count": 23,
   "id": "e9b92bb2",
   "metadata": {
    "scrolled": true
   },
   "outputs": [
    {
     "name": "stdout",
     "output_type": "stream",
     "text": [
      "Epochs = 1/30\n"
     ]
    },
    {
     "name": "stderr",
     "output_type": "stream",
     "text": [
      "100%|████████████████████████████████████████████████████████████████████████████████| 167/167 [00:04<00:00, 37.49it/s]\n"
     ]
    },
    {
     "name": "stdout",
     "output_type": "stream",
     "text": [
      "train_loss = 0.6875  train_acc = 0.6047  val_loss = 0.6657  val_acc = 0.6855\n",
      "\n",
      "Epochs = 2/30\n"
     ]
    },
    {
     "name": "stderr",
     "output_type": "stream",
     "text": [
      "100%|███████████████████████████████████████████████████████████████████████████████| 167/167 [00:01<00:00, 104.98it/s]\n"
     ]
    },
    {
     "name": "stdout",
     "output_type": "stream",
     "text": [
      "train_loss = 0.5726  train_acc = 0.7106  val_loss = 0.6047  val_acc = 0.7474\n",
      "\n",
      "Epochs = 3/30\n"
     ]
    },
    {
     "name": "stderr",
     "output_type": "stream",
     "text": [
      "100%|███████████████████████████████████████████████████████████████████████████████| 167/167 [00:01<00:00, 106.52it/s]\n"
     ]
    },
    {
     "name": "stdout",
     "output_type": "stream",
     "text": [
      "train_loss = 0.5246  train_acc = 0.751  val_loss = 0.5255  val_acc = 0.7729\n",
      "\n",
      "Epochs = 4/30\n"
     ]
    },
    {
     "name": "stderr",
     "output_type": "stream",
     "text": [
      "100%|███████████████████████████████████████████████████████████████████████████████| 167/167 [00:01<00:00, 106.81it/s]\n"
     ]
    },
    {
     "name": "stdout",
     "output_type": "stream",
     "text": [
      "train_loss = 0.4918  train_acc = 0.7708  val_loss = 0.4808  val_acc = 0.7786\n",
      "\n",
      "Epochs = 5/30\n"
     ]
    },
    {
     "name": "stderr",
     "output_type": "stream",
     "text": [
      "100%|███████████████████████████████████████████████████████████████████████████████| 167/167 [00:01<00:00, 106.79it/s]\n"
     ]
    },
    {
     "name": "stdout",
     "output_type": "stream",
     "text": [
      "train_loss = 0.4735  train_acc = 0.783  val_loss = 0.4644  val_acc = 0.7914\n",
      "\n",
      "Epochs = 6/30\n"
     ]
    },
    {
     "name": "stderr",
     "output_type": "stream",
     "text": [
      "100%|███████████████████████████████████████████████████████████████████████████████| 167/167 [00:01<00:00, 106.45it/s]\n"
     ]
    },
    {
     "name": "stdout",
     "output_type": "stream",
     "text": [
      "train_loss = 0.4633  train_acc = 0.7894  val_loss = 0.4557  val_acc = 0.7942\n",
      "\n",
      "Epochs = 7/30\n"
     ]
    },
    {
     "name": "stderr",
     "output_type": "stream",
     "text": [
      "100%|███████████████████████████████████████████████████████████████████████████████| 167/167 [00:01<00:00, 106.72it/s]\n"
     ]
    },
    {
     "name": "stdout",
     "output_type": "stream",
     "text": [
      "train_loss = 0.4513  train_acc = 0.7953  val_loss = 0.4476  val_acc = 0.7995\n",
      "\n",
      "Epochs = 8/30\n"
     ]
    },
    {
     "name": "stderr",
     "output_type": "stream",
     "text": [
      "100%|███████████████████████████████████████████████████████████████████████████████| 167/167 [00:01<00:00, 105.84it/s]\n"
     ]
    },
    {
     "name": "stdout",
     "output_type": "stream",
     "text": [
      "train_loss = 0.436  train_acc = 0.8032  val_loss = 0.4418  val_acc = 0.7981\n",
      "\n",
      "Epochs = 9/30\n"
     ]
    },
    {
     "name": "stderr",
     "output_type": "stream",
     "text": [
      "100%|███████████████████████████████████████████████████████████████████████████████| 167/167 [00:01<00:00, 104.91it/s]\n"
     ]
    },
    {
     "name": "stdout",
     "output_type": "stream",
     "text": [
      "train_loss = 0.4274  train_acc = 0.8107  val_loss = 0.4381  val_acc = 0.8038\n",
      "\n",
      "Epochs = 10/30\n"
     ]
    },
    {
     "name": "stderr",
     "output_type": "stream",
     "text": [
      "100%|███████████████████████████████████████████████████████████████████████████████| 167/167 [00:01<00:00, 105.18it/s]\n"
     ]
    },
    {
     "name": "stdout",
     "output_type": "stream",
     "text": [
      "train_loss = 0.4162  train_acc = 0.8144  val_loss = 0.4347  val_acc = 0.8109\n",
      "\n",
      "Epochs = 11/30\n"
     ]
    },
    {
     "name": "stderr",
     "output_type": "stream",
     "text": [
      "100%|███████████████████████████████████████████████████████████████████████████████| 167/167 [00:01<00:00, 104.39it/s]\n"
     ]
    },
    {
     "name": "stdout",
     "output_type": "stream",
     "text": [
      "train_loss = 0.4115  train_acc = 0.8187  val_loss = 0.432  val_acc = 0.8137\n",
      "\n",
      "Epochs = 12/30\n"
     ]
    },
    {
     "name": "stderr",
     "output_type": "stream",
     "text": [
      "100%|███████████████████████████████████████████████████████████████████████████████| 167/167 [00:01<00:00, 106.18it/s]\n"
     ]
    },
    {
     "name": "stdout",
     "output_type": "stream",
     "text": [
      "train_loss = 0.404  train_acc = 0.8251  val_loss = 0.4291  val_acc = 0.8151\n",
      "\n",
      "Epochs = 13/30\n"
     ]
    },
    {
     "name": "stderr",
     "output_type": "stream",
     "text": [
      "100%|███████████████████████████████████████████████████████████████████████████████| 167/167 [00:01<00:00, 105.38it/s]\n"
     ]
    },
    {
     "name": "stdout",
     "output_type": "stream",
     "text": [
      "train_loss = 0.3962  train_acc = 0.826  val_loss = 0.4275  val_acc = 0.8123\n",
      "\n",
      "Epochs = 14/30\n"
     ]
    },
    {
     "name": "stderr",
     "output_type": "stream",
     "text": [
      "100%|███████████████████████████████████████████████████████████████████████████████| 167/167 [00:01<00:00, 105.71it/s]\n"
     ]
    },
    {
     "name": "stdout",
     "output_type": "stream",
     "text": [
      "train_loss = 0.3918  train_acc = 0.8311  val_loss = 0.4254  val_acc = 0.8184\n",
      "\n",
      "Epochs = 15/30\n"
     ]
    },
    {
     "name": "stderr",
     "output_type": "stream",
     "text": [
      "100%|███████████████████████████████████████████████████████████████████████████████| 167/167 [00:01<00:00, 104.13it/s]\n"
     ]
    },
    {
     "name": "stdout",
     "output_type": "stream",
     "text": [
      "train_loss = 0.3831  train_acc = 0.8337  val_loss = 0.425  val_acc = 0.8198\n",
      "\n",
      "Epochs = 16/30\n"
     ]
    },
    {
     "name": "stderr",
     "output_type": "stream",
     "text": [
      "100%|███████████████████████████████████████████████████████████████████████████████| 167/167 [00:01<00:00, 104.65it/s]\n"
     ]
    },
    {
     "name": "stdout",
     "output_type": "stream",
     "text": [
      "train_loss = 0.3793  train_acc = 0.838  val_loss = 0.4233  val_acc = 0.8226\n",
      "\n",
      "Epochs = 17/30\n"
     ]
    },
    {
     "name": "stderr",
     "output_type": "stream",
     "text": [
      "100%|███████████████████████████████████████████████████████████████████████████████| 167/167 [00:01<00:00, 106.25it/s]\n"
     ]
    },
    {
     "name": "stdout",
     "output_type": "stream",
     "text": [
      "train_loss = 0.3735  train_acc = 0.8419  val_loss = 0.4227  val_acc = 0.8212\n",
      "\n",
      "Epochs = 18/30\n"
     ]
    },
    {
     "name": "stderr",
     "output_type": "stream",
     "text": [
      "100%|███████████████████████████████████████████████████████████████████████████████| 167/167 [00:01<00:00, 106.99it/s]\n"
     ]
    },
    {
     "name": "stdout",
     "output_type": "stream",
     "text": [
      "train_loss = 0.3682  train_acc = 0.8417  val_loss = 0.4219  val_acc = 0.8184\n",
      "\n",
      "Epochs = 19/30\n"
     ]
    },
    {
     "name": "stderr",
     "output_type": "stream",
     "text": [
      "100%|███████████████████████████████████████████████████████████████████████████████| 167/167 [00:01<00:00, 106.71it/s]\n"
     ]
    },
    {
     "name": "stdout",
     "output_type": "stream",
     "text": [
      "train_loss = 0.3616  train_acc = 0.8475  val_loss = 0.4219  val_acc = 0.8198\n",
      "\n",
      "Epochs = 20/30\n"
     ]
    },
    {
     "name": "stderr",
     "output_type": "stream",
     "text": [
      "100%|███████████████████████████████████████████████████████████████████████████████| 167/167 [00:01<00:00, 106.72it/s]\n"
     ]
    },
    {
     "name": "stdout",
     "output_type": "stream",
     "text": [
      "train_loss = 0.3559  train_acc = 0.8507  val_loss = 0.4214  val_acc = 0.8212\n",
      "\n",
      "Epochs = 21/30\n"
     ]
    },
    {
     "name": "stderr",
     "output_type": "stream",
     "text": [
      "100%|███████████████████████████████████████████████████████████████████████████████| 167/167 [00:01<00:00, 104.59it/s]\n"
     ]
    },
    {
     "name": "stdout",
     "output_type": "stream",
     "text": [
      "train_loss = 0.3469  train_acc = 0.8556  val_loss = 0.4208  val_acc = 0.8198\n",
      "\n",
      "Epochs = 22/30\n"
     ]
    },
    {
     "name": "stderr",
     "output_type": "stream",
     "text": [
      "100%|███████████████████████████████████████████████████████████████████████████████| 167/167 [00:01<00:00, 105.98it/s]\n"
     ]
    },
    {
     "name": "stdout",
     "output_type": "stream",
     "text": [
      "train_loss = 0.3449  train_acc = 0.8593  val_loss = 0.4203  val_acc = 0.8198\n",
      "\n",
      "Epochs = 23/30\n"
     ]
    },
    {
     "name": "stderr",
     "output_type": "stream",
     "text": [
      "100%|███████████████████████████████████████████████████████████████████████████████| 167/167 [00:01<00:00, 105.18it/s]\n"
     ]
    },
    {
     "name": "stdout",
     "output_type": "stream",
     "text": [
      "train_loss = 0.3401  train_acc = 0.8578  val_loss = 0.4201  val_acc = 0.8226\n",
      "\n",
      "Epochs = 24/30\n"
     ]
    },
    {
     "name": "stderr",
     "output_type": "stream",
     "text": [
      "100%|███████████████████████████████████████████████████████████████████████████████| 167/167 [00:01<00:00, 105.92it/s]\n"
     ]
    },
    {
     "name": "stdout",
     "output_type": "stream",
     "text": [
      "train_loss = 0.3361  train_acc = 0.8629  val_loss = 0.4207  val_acc = 0.8226\n",
      "\n",
      "Epochs = 25/30\n"
     ]
    },
    {
     "name": "stderr",
     "output_type": "stream",
     "text": [
      "100%|███████████████████████████████████████████████████████████████████████████████| 167/167 [00:01<00:00, 105.78it/s]\n"
     ]
    },
    {
     "name": "stdout",
     "output_type": "stream",
     "text": [
      "train_loss = 0.3296  train_acc = 0.8653  val_loss = 0.4204  val_acc = 0.8226\n",
      "\n",
      "Epochs = 26/30\n"
     ]
    },
    {
     "name": "stderr",
     "output_type": "stream",
     "text": [
      "100%|███████████████████████████████████████████████████████████████████████████████| 167/167 [00:01<00:00, 105.98it/s]\n"
     ]
    },
    {
     "name": "stdout",
     "output_type": "stream",
     "text": [
      "train_loss = 0.3271  train_acc = 0.8649  val_loss = 0.4204  val_acc = 0.8226\n",
      "\n",
      "Epochs = 27/30\n"
     ]
    },
    {
     "name": "stderr",
     "output_type": "stream",
     "text": [
      "100%|███████████████████████████████████████████████████████████████████████████████| 167/167 [00:01<00:00, 105.91it/s]\n"
     ]
    },
    {
     "name": "stdout",
     "output_type": "stream",
     "text": [
      "train_loss = 0.3212  train_acc = 0.8688  val_loss = 0.4212  val_acc = 0.8226\n",
      "\n",
      "Epochs = 28/30\n"
     ]
    },
    {
     "name": "stderr",
     "output_type": "stream",
     "text": [
      "100%|███████████████████████████████████████████████████████████████████████████████| 167/167 [00:01<00:00, 104.92it/s]\n"
     ]
    },
    {
     "name": "stdout",
     "output_type": "stream",
     "text": [
      "train_loss = 0.3175  train_acc = 0.8692  val_loss = 0.4211  val_acc = 0.8226\n",
      "\n",
      "Epochs = 29/30\n"
     ]
    },
    {
     "name": "stderr",
     "output_type": "stream",
     "text": [
      "100%|███████████████████████████████████████████████████████████████████████████████| 167/167 [00:01<00:00, 106.52it/s]\n"
     ]
    },
    {
     "name": "stdout",
     "output_type": "stream",
     "text": [
      "train_loss = 0.3149  train_acc = 0.8711  val_loss = 0.4211  val_acc = 0.8241\n",
      "\n",
      "Epochs = 30/30\n"
     ]
    },
    {
     "name": "stderr",
     "output_type": "stream",
     "text": [
      "100%|███████████████████████████████████████████████████████████████████████████████| 167/167 [00:01<00:00, 106.11it/s]\n"
     ]
    },
    {
     "name": "stdout",
     "output_type": "stream",
     "text": [
      "train_loss = 0.3088  train_acc = 0.8746  val_loss = 0.4216  val_acc = 0.8226\n",
      "\n"
     ]
    }
   ],
   "source": [
    "# train model and get metrics\n",
    "\n",
    "metrics = train_model(epochs=30,\n",
    "                         trainin_data=(xtrain,ytrain),\n",
    "                         validation_data=(xval,yval))"
   ]
  },
  {
   "cell_type": "code",
   "execution_count": 24,
   "id": "aec8e600",
   "metadata": {},
   "outputs": [
    {
     "data": {
      "image/png": "[encoded data removed]",
      "text/plain": [
       "<Figure size 720x288 with 2 Axes>"
      ]
     },
     "metadata": {
      "needs_background": "light"
     },
     "output_type": "display_data"
    }
   ],
   "source": [
    "def plot_training_logs(metrics):\n",
    "    metrics = pd.DataFrame(metrics)\n",
    "    _,(ax1,ax2) = plt.subplots(ncols=2,figsize=(10,4))\n",
    "    metrics[['train_loss','val_loss']].plot(ax=ax1,title='Loss Plot')\n",
    "    metrics[['train_acc','val_acc']].plot(ax=ax2,title='Accuracy Plot')\n",
    "    plt.show()\n",
    "\n",
    "plot_training_logs(metrics)"
   ]
  },
  {
   "cell_type": "code",
   "execution_count": 25,
   "id": "2bbdc76f",
   "metadata": {},
   "outputs": [],
   "source": [
    "model = TweetClassificationModel(rnn_units=200,vocab_size=x_voc,embedding_weights=emb,emb_dim=300)\n",
    "model.build((None,maxlen))\n",
    "model.load_weights('best_weights')\n",
    "\n",
    "def evaluate(x,y):\n",
    "    pred = model(x,training = False)\n",
    "    pred = np.round(pred.numpy().flatten())\n",
    "    print(classification_report(y,pred))\n",
    "    sb.heatmap(confusion_matrix(y,pred),annot=True,fmt='d',cmap='Blues')\n",
    "    plt.show()"
   ]
  },
  {
   "cell_type": "code",
   "execution_count": 26,
   "id": "25766090",
   "metadata": {},
   "outputs": [
    {
     "name": "stdout",
     "output_type": "stream",
     "text": [
      "              precision    recall  f1-score   support\n",
      "\n",
      "           0       0.82      0.88      0.85       384\n",
      "           1       0.83      0.75      0.79       302\n",
      "\n",
      "    accuracy                           0.82       686\n",
      "   macro avg       0.83      0.82      0.82       686\n",
      "weighted avg       0.82      0.82      0.82       686\n",
      "\n"
     ]
    },
    {
     "data": {
      "image/png": "[encoded data removed]",
      "text/plain": [
       "<Figure size 432x288 with 2 Axes>"
      ]
     },
     "metadata": {
      "needs_background": "light"
     },
     "output_type": "display_data"
    }
   ],
   "source": [
    "evaluate(xval,yval)"
   ]
  },
  {
   "cell_type": "code",
   "execution_count": 27,
   "id": "be5651c3",
   "metadata": {},
   "outputs": [
    {
     "name": "stdout",
     "output_type": "stream",
     "text": [
      "              precision    recall  f1-score   support\n",
      "\n",
      "           0       0.80      0.88      0.84       908\n",
      "           1       0.82      0.71      0.76       690\n",
      "\n",
      "    accuracy                           0.81      1598\n",
      "   macro avg       0.81      0.79      0.80      1598\n",
      "weighted avg       0.81      0.81      0.80      1598\n",
      "\n"
     ]
    },
    {
     "data": {
      "image/png": "[encoded data removed]",
      "text/plain": [
       "<Figure size 432x288 with 2 Axes>"
      ]
     },
     "metadata": {
      "needs_background": "light"
     },
     "output_type": "display_data"
    }
   ],
   "source": [
    "evaluate(xtest,ytest)"
   ]
  },
  {
   "cell_type": "code",
   "execution_count": 28,
   "id": "41a15612",
   "metadata": {
    "scrolled": false
   },
   "outputs": [
    {
     "name": "stdout",
     "output_type": "stream",
     "text": [
      "fold 1/5\n",
      "              precision    recall  f1-score   support\n",
      "\n",
      "           0       0.76      0.93      0.83       868\n",
      "           1       0.86      0.61      0.71       655\n",
      "\n",
      "    accuracy                           0.79      1523\n",
      "   macro avg       0.81      0.77      0.77      1523\n",
      "weighted avg       0.80      0.79      0.78      1523\n",
      "\n"
     ]
    },
    {
     "data": {
      "image/png": "[encoded data removed]",
      "text/plain": [
       "<Figure size 432x288 with 2 Axes>"
      ]
     },
     "metadata": {
      "needs_background": "light"
     },
     "output_type": "display_data"
    },
    {
     "data": {
      "image/png": "[encoded data removed]",
      "text/plain": [
       "<Figure size 720x288 with 2 Axes>"
      ]
     },
     "metadata": {
      "needs_background": "light"
     },
     "output_type": "display_data"
    },
    {
     "name": "stdout",
     "output_type": "stream",
     "text": [
      "\n",
      "################################################\n",
      "\n",
      "fold 2/5\n",
      "              precision    recall  f1-score   support\n",
      "\n",
      "           0       0.75      0.82      0.78       869\n",
      "           1       0.72      0.64      0.68       654\n",
      "\n",
      "    accuracy                           0.74      1523\n",
      "   macro avg       0.74      0.73      0.73      1523\n",
      "weighted avg       0.74      0.74      0.74      1523\n",
      "\n"
     ]
    },
    {
     "data": {
      "image/png": "[encoded data removed]",
      "text/plain": [
       "<Figure size 432x288 with 2 Axes>"
      ]
     },
     "metadata": {
      "needs_background": "light"
     },
     "output_type": "display_data"
    },
    {
     "data": {
      "image/png": "[encoded data removed]",
      "text/plain": [
       "<Figure size 720x288 with 2 Axes>"
      ]
     },
     "metadata": {
      "needs_background": "light"
     },
     "output_type": "display_data"
    },
    {
     "name": "stdout",
     "output_type": "stream",
     "text": [
      "\n",
      "################################################\n",
      "\n",
      "fold 3/5\n",
      "              precision    recall  f1-score   support\n",
      "\n",
      "           0       0.76      0.82      0.79       869\n",
      "           1       0.73      0.65      0.69       654\n",
      "\n",
      "    accuracy                           0.75      1523\n",
      "   macro avg       0.75      0.74      0.74      1523\n",
      "weighted avg       0.75      0.75      0.75      1523\n",
      "\n"
     ]
    },
    {
     "data": {
      "image/png": "[encoded data removed]",
      "text/plain": [
       "<Figure size 432x288 with 2 Axes>"
      ]
     },
     "metadata": {
      "needs_background": "light"
     },
     "output_type": "display_data"
    },
    {
     "data": {
      "image/png": "[encoded data removed]",
      "text/plain": [
       "<Figure size 720x288 with 2 Axes>"
      ]
     },
     "metadata": {
      "needs_background": "light"
     },
     "output_type": "display_data"
    },
    {
     "name": "stdout",
     "output_type": "stream",
     "text": [
      "\n",
      "################################################\n",
      "\n",
      "fold 4/5\n",
      "              precision    recall  f1-score   support\n",
      "\n",
      "           0       0.73      0.88      0.80       868\n",
      "           1       0.78      0.56      0.66       654\n",
      "\n",
      "    accuracy                           0.75      1522\n",
      "   macro avg       0.76      0.72      0.73      1522\n",
      "weighted avg       0.75      0.75      0.74      1522\n",
      "\n"
     ]
    },
    {
     "data": {
      "image/png": "[encoded data removed]",
      "text/plain": [
       "<Figure size 432x288 with 2 Axes>"
      ]
     },
     "metadata": {
      "needs_background": "light"
     },
     "output_type": "display_data"
    },
    {
     "data": {
      "image/png": "[encoded data removed]",
      "text/plain": [
       "<Figure size 720x288 with 2 Axes>"
      ]
     },
     "metadata": {
      "needs_background": "light"
     },
     "output_type": "display_data"
    },
    {
     "name": "stdout",
     "output_type": "stream",
     "text": [
      "\n",
      "################################################\n",
      "\n",
      "fold 5/5\n",
      "              precision    recall  f1-score   support\n",
      "\n",
      "           0       0.82      0.90      0.86       868\n",
      "           1       0.85      0.74      0.79       654\n",
      "\n",
      "    accuracy                           0.83      1522\n",
      "   macro avg       0.84      0.82      0.83      1522\n",
      "weighted avg       0.84      0.83      0.83      1522\n",
      "\n"
     ]
    },
    {
     "data": {
      "image/png": "[encoded data removed]",
      "text/plain": [
       "<Figure size 432x288 with 2 Axes>"
      ]
     },
     "metadata": {
      "needs_background": "light"
     },
     "output_type": "display_data"
    },
    {
     "data": {
      "image/png": "[encoded data removed]",
      "text/plain": [
       "<Figure size 720x288 with 2 Axes>"
      ]
     },
     "metadata": {
      "needs_background": "light"
     },
     "output_type": "display_data"
    },
    {
     "name": "stdout",
     "output_type": "stream",
     "text": [
      "\n",
      "################################################\n",
      "\n",
      "avg f1-score : 0.7069116710709966\n",
      "avg accuracy : 0.77184235071005\n"
     ]
    }
   ],
   "source": [
    "# cross-validation\n",
    "\n",
    "n = 5\n",
    "acc = 0\n",
    "f1 = 0\n",
    "sfk = StratifiedKFold(n_splits=n)\n",
    "sfk.get_n_splits(x,y)\n",
    "count=1\n",
    "for train_idx,test_idx in sfk.split(x,y):\n",
    "    xtrain,xtest = x[train_idx],x[test_idx]\n",
    "    ytrain,ytest = y[train_idx],y[test_idx]\n",
    "    \n",
    "    tk = Tokenizer()\n",
    "    tk.fit_on_texts(xtrain)\n",
    "\n",
    "    seq = tk.texts_to_sequences(xtrain)\n",
    "    xtrain = pad_sequences(seq,maxlen=maxlen,padding='post')\n",
    "\n",
    "    seq = tk.texts_to_sequences(xtest)\n",
    "    xtest = pad_sequences(seq,maxlen=maxlen,padding='post')\n",
    "\n",
    "    x_voc = len(tk.word_counts)+1\n",
    "    \n",
    "    emb = np.zeros((x_voc,300))\n",
    "    for w,idx in tk.word_index.items():\n",
    "        try: emb[idx] = glove_embeddings[w]\n",
    "        except: pass\n",
    "    \n",
    "    model = TweetClassificationModel(rnn_units=200,\n",
    "                                vocab_size=x_voc,\n",
    "                                embedding_weights=emb,\n",
    "                                emb_dim=300)\n",
    "\n",
    "    model.build((None,maxlen))\n",
    "    \n",
    "    loss_func = tf.keras.losses.BinaryCrossentropy()\n",
    "    acc_func = tf.keras.metrics.BinaryAccuracy()\n",
    "    optimizer = Adam(learning_rate=1e-5)\n",
    "    \n",
    "    @tf.function\n",
    "    def train_step(x,y):\n",
    "        with tf.GradientTape() as tape:\n",
    "\n",
    "            pred = model(x, training=True)\n",
    "\n",
    "            loss = loss_func(y,pred)\n",
    "\n",
    "        gradients = tape.gradient(loss, model.trainable_weights)\n",
    "        optimizer.apply_gradients(zip(gradients,model.trainable_weights))\n",
    "        acc_func.update_state(y,pred)\n",
    "        return loss\n",
    "\n",
    "    @tf.function\n",
    "    def validation_step(x,y):\n",
    "        pred = model(x, training=False)\n",
    "        loss = loss_func(y,pred)\n",
    "        acc = acc_func.update_state(y,pred)\n",
    "        return loss\n",
    "    \n",
    "    print(f'fold {count}/{n}')\n",
    "    metrics = train_model(epochs=30,\n",
    "                         trainin_data=(xtrain,ytrain),\n",
    "                         validation_data=(xtest,ytest),\n",
    "                         verbose=True, filename='fold_best_weights')\n",
    "    \n",
    "    model.load_weights('fold_best_weights')\n",
    "    \n",
    "    evaluate(xtest,ytest)\n",
    "    plot_training_logs(metrics)\n",
    "    \n",
    "    pred = model(xtest,training=False)\n",
    "    pred = np.round(pred.numpy().flatten())\n",
    "    \n",
    "    f1 += f1_score(ytest,pred)\n",
    "    acc += accuracy_score(ytest,pred)\n",
    "    \n",
    "    print(\"\\n################################################\\n\")\n",
    "    \n",
    "    count+=1\n",
    "    \n",
    "print('avg f1-score :',f1/n)\n",
    "print('avg accuracy :',acc/n)"
   ]
  }
 ],
 "metadata": {
  "kernelspec": {
   "display_name": "Python 3 (ipykernel)",
   "language": "python",
   "name": "python3"
  },
  "language_info": {
   "codemirror_mode": {
    "name": "ipython",
    "version": 3
   },
   "file_extension": ".py",
   "mimetype": "text/x-python",
   "name": "python",
   "nbconvert_exporter": "python",
   "pygments_lexer": "ipython3",
   "version": "3.8.6"
  }
 },
 "nbformat": 4,
 "nbformat_minor": 5
}
