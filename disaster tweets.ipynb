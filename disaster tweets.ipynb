{
 "cells": [
  {
   "cell_type": "code",
   "execution_count": 1,
   "id": "bfa41957",
   "metadata": {},
   "outputs": [],
   "source": [
    "import pandas as pd\n",
    "import matplotlib.pyplot as plt\n",
    "import spacy\n",
    "import numpy as np\n",
    "import string\n",
    "import contractions\n",
    "\n",
    "from sklearn.metrics import confusion_matrix,classification_report\n",
    "import seaborn as sb\n",
    "from sklearn.model_selection import train_test_split\n",
    "\n",
    "import tensorflow as tf\n",
    "from tensorflow.keras.preprocessing.text import Tokenizer\n",
    "from tensorflow.keras.preprocessing.sequence import pad_sequences\n",
    "from tensorflow.keras.layers import LSTM, Dense, Embedding, Input, BatchNormalization, Dropout\n",
    "from tensorflow.keras.models import Model\n",
    "from tensorflow.keras.optimizers import RMSprop\n",
    "\n",
    "en_model = spacy.load('en_core_web_md')"
   ]
  },
  {
   "cell_type": "code",
   "execution_count": 2,
   "id": "34240121",
   "metadata": {},
   "outputs": [
    {
     "name": "stdout",
     "output_type": "stream",
     "text": [
      "<class 'pandas.core.frame.DataFrame'>\n",
      "RangeIndex: 7613 entries, 0 to 7612\n",
      "Data columns (total 5 columns):\n",
      " #   Column    Non-Null Count  Dtype \n",
      "---  ------    --------------  ----- \n",
      " 0   id        7613 non-null   int64 \n",
      " 1   keyword   7552 non-null   object\n",
      " 2   location  5080 non-null   object\n",
      " 3   text      7613 non-null   object\n",
      " 4   target    7613 non-null   int64 \n",
      "dtypes: int64(2), object(3)\n",
      "memory usage: 297.5+ KB\n"
     ]
    }
   ],
   "source": [
    "df = pd.read_csv('train.csv',encoding='utf-8')\n",
    "df.info()"
   ]
  },
  {
   "cell_type": "code",
   "execution_count": 3,
   "id": "4ff1edcf",
   "metadata": {},
   "outputs": [
    {
     "data": {
      "text/plain": [
       "<AxesSubplot:xlabel='target', ylabel='count'>"
      ]
     },
     "execution_count": 3,
     "metadata": {},
     "output_type": "execute_result"
    },
    {
     "data": {
      "image/png": "[encoded data removed]",
      "text/plain": [
       "<Figure size 432x288 with 1 Axes>"
      ]
     },
     "metadata": {
      "needs_background": "light"
     },
     "output_type": "display_data"
    }
   ],
   "source": [
    "sb.countplot(x=df.target)"
   ]
  },
  {
   "cell_type": "markdown",
   "id": "fe7c18f5",
   "metadata": {},
   "source": [
    "The target column is well balanced"
   ]
  },
  {
   "cell_type": "code",
   "execution_count": 4,
   "id": "d2283ab8",
   "metadata": {},
   "outputs": [
    {
     "name": "stdout",
     "output_type": "stream",
     "text": [
      "keyword 0.008012610009194798\n",
      "location 0.33272034677525286\n"
     ]
    }
   ],
   "source": [
    "# check for missing data\n",
    "for col in df.columns:\n",
    "    if df[col].isnull().mean()>0:\n",
    "        print(col,df[col].isnull().mean())"
   ]
  },
  {
   "cell_type": "markdown",
   "id": "16cd2741",
   "metadata": {},
   "source": [
    "33% data of \"location\" column is missing"
   ]
  },
  {
   "cell_type": "code",
   "execution_count": 5,
   "id": "5e525b70",
   "metadata": {},
   "outputs": [],
   "source": [
    "# only keep 'text' and 'target' columns\n",
    "df = df[['text','target']]"
   ]
  },
  {
   "cell_type": "code",
   "execution_count": 6,
   "id": "0074efa1",
   "metadata": {},
   "outputs": [],
   "source": [
    "# cleaning function\n",
    "def clean_text(text):\n",
    "    toks = text.lower().split()\n",
    "    toks = [contractions.fix(t) for t in toks if t not in string.punctuation and '#' not in t]\n",
    "    toks = en_model(\" \".join(toks))\n",
    "    toks = [t for t in toks if str(t)!=\"'s\"]\n",
    "    toks = [t for t in toks if not t.like_url and '@' not in str(t)]\n",
    "    toks = [t for t in toks if str(t).isalpha() and not t.is_stop]\n",
    "    toks = [str(t) for t in toks if not t.is_oov]\n",
    "    return \" \".join(toks)"
   ]
  },
  {
   "cell_type": "markdown",
   "id": "e0e13c26",
   "metadata": {},
   "source": [
    "From the tweets, we remove stopwords, URLs, punctuations, numbers and only keep words that are not out-of-vocabulary"
   ]
  },
  {
   "cell_type": "code",
   "execution_count": 7,
   "id": "0943ce78",
   "metadata": {},
   "outputs": [
    {
     "name": "stdout",
     "output_type": "stream",
     "text": [
      "Original : @cityofhummus @ILNewsFlash do you want to hear more? Displaced my parents until both died in the diasporas !\n",
      "Cleaned : want hear displaced parents died diasporas\n",
      "\n",
      "Original : i drowned in the kiddie pool and i lost my ploppy\n",
      "Cleaned : drowned kiddie pool lost\n",
      "\n",
      "Original : @TheLegendBlue @Cozmo23 they'll probably allow us to ascend them but not get them to the damage max values\n",
      "Cleaned : probably allow ascend damage max values\n",
      "\n",
      "Original : Apollo Brown - Detonate (feat. M.O.P.) by Mello Music Group via #soundcloud https://t.co/PRojeAvG8T\n",
      "Cleaned : apollo brown detonate feat mello music group t\n",
      "\n"
     ]
    }
   ],
   "source": [
    "for _ in range(4):\n",
    "    i = np.random.randint(0,len(df))\n",
    "    print('Original : '+df.text[i]+'\\nCleaned : '+clean_text(df.text[i]))\n",
    "    print()"
   ]
  },
  {
   "cell_type": "code",
   "execution_count": 8,
   "id": "1565ec4c",
   "metadata": {},
   "outputs": [],
   "source": [
    "# get clean text\n",
    "x = df.text.apply(lambda x: clean_text(x))\n",
    "y = df.target.values\n",
    "\n",
    "# split the data in train, validation and test (75:15:10) \n",
    "xtrain,xval,ytrain,yval = train_test_split(x,y,train_size=0.75,random_state=100)\n",
    "xval,xtest,yval,ytest = train_test_split(xval,yval,train_size=0.6,random_state=100)\n",
    "\n",
    "# get max input length\n",
    "maxlen = 0\n",
    "for i in x:\n",
    "    if len(i.split())>maxlen: maxlen=len(i.split())"
   ]
  },
  {
   "cell_type": "code",
   "execution_count": 9,
   "id": "3f3fde61",
   "metadata": {},
   "outputs": [],
   "source": [
    "# tokenizing and padding\n",
    "\n",
    "tk = Tokenizer()\n",
    "tk.fit_on_texts(xtrain)\n",
    "seq = tk.texts_to_sequences(xtrain)\n",
    "xtrain = pad_sequences(seq,maxlen=maxlen,padding='post')\n",
    "\n",
    "seq = tk.texts_to_sequences(xval)\n",
    "xval = pad_sequences(seq,maxlen=maxlen,padding='post')\n",
    "\n",
    "seq = tk.texts_to_sequences(xtest)\n",
    "xtest = pad_sequences(seq,maxlen=maxlen,padding='post')\n",
    "\n",
    "x_voc = len(tk.word_counts)+1"
   ]
  },
  {
   "cell_type": "code",
   "execution_count": 10,
   "id": "71c49d96",
   "metadata": {},
   "outputs": [
    {
     "name": "stdout",
     "output_type": "stream",
     "text": [
      "Loading Glove Model\n",
      "400000 words loaded!\n"
     ]
    }
   ],
   "source": [
    "# load glove vectors\n",
    "def load_glove_model(File):\n",
    "    print(\"Loading Glove Model\")\n",
    "    glove_model = {}\n",
    "    with open(File,'r',encoding='utf-8') as f:\n",
    "        for line in f:\n",
    "            split_line = line.split()\n",
    "            word = split_line[0]\n",
    "            embedding = np.array(split_line[1:], dtype=np.float64)\n",
    "            glove_model[word] = embedding\n",
    "    print(f\"{len(glove_model)} words loaded!\")\n",
    "    return glove_model\n",
    " \n",
    "glove_embeddings = load_glove_model(\"D:/glove.6B.200d.txt\")"
   ]
  },
  {
   "cell_type": "code",
   "execution_count": 11,
   "id": "12dedb49",
   "metadata": {},
   "outputs": [],
   "source": [
    "# create pretrained embedding matrix\n",
    "emb = np.zeros((x_voc,200))\n",
    "for w,idx in tk.word_index.items():\n",
    "    try: emb[idx] = glove_embeddings[w]\n",
    "    except: pass"
   ]
  },
  {
   "cell_type": "code",
   "execution_count": 12,
   "id": "f3c994b7",
   "metadata": {},
   "outputs": [],
   "source": [
    "# Bahdanau (Additive) Attention layer\n",
    "class Attention(tf.keras.layers.Layer):\n",
    "    def __init__(self, units):\n",
    "        super(Attention, self).__init__()\n",
    "        self.units = units\n",
    " \n",
    "    def call(self, features, hidden):\n",
    "        hidden_with_time_axis = tf.expand_dims(hidden, 1)\n",
    "        score = tf.nn.tanh(self.W1(features) + self.W2(hidden_with_time_axis))\n",
    "        attention_weights = tf.nn.softmax(self.V(score), axis=1)\n",
    "        context_vector = attention_weights * features\n",
    "        context_vector = tf.reduce_sum(context_vector, axis=1)\n",
    "        return context_vector, attention_weights\n",
    "    \n",
    "    def build(self,input_shape):\n",
    "        self.W1 = tf.keras.layers.Dense(self.units)\n",
    "        self.W2 = tf.keras.layers.Dense(self.units)\n",
    "        self.V = tf.keras.layers.Dense(1)\n",
    "    \n",
    "    def get_config(self):\n",
    "        config = super().get_config()\n",
    "        config.update({'units':self.units})\n",
    "        return config"
   ]
  },
  {
   "cell_type": "code",
   "execution_count": 13,
   "id": "4923a1a7",
   "metadata": {},
   "outputs": [
    {
     "name": "stdout",
     "output_type": "stream",
     "text": [
      "Model: \"model\"\n",
      "__________________________________________________________________________________________________\n",
      " Layer (type)                   Output Shape         Param #     Connected to                     \n",
      "==================================================================================================\n",
      " input_1 (InputLayer)           [(None, 21)]         0           []                               \n",
      "                                                                                                  \n",
      " embedding (Embedding)          (None, 21, 200)      1950000     ['input_1[0][0]']                \n",
      "                                                                                                  \n",
      " lstm (LSTM)                    [(None, 21, 100),    120400      ['embedding[0][0]']              \n",
      "                                 (None, 100),                                                     \n",
      "                                 (None, 100)]                                                     \n",
      "                                                                                                  \n",
      " attention (Attention)          ((None, 100),        20301       ['lstm[0][0]',                   \n",
      "                                 (None, 21, 1))                   'lstm[0][1]']                   \n",
      "                                                                                                  \n",
      " dense (Dense)                  (None, 100)          10100       ['attention[0][0]']              \n",
      "                                                                                                  \n",
      " batch_normalization (BatchNorm  (None, 100)         400         ['dense[0][0]']                  \n",
      " alization)                                                                                       \n",
      "                                                                                                  \n",
      " dropout (Dropout)              (None, 100)          0           ['batch_normalization[0][0]']    \n",
      "                                                                                                  \n",
      " dense_1 (Dense)                (None, 1)            101         ['dropout[0][0]']                \n",
      "                                                                                                  \n",
      "==================================================================================================\n",
      "Total params: 2,101,302\n",
      "Trainable params: 2,101,102\n",
      "Non-trainable params: 200\n",
      "__________________________________________________________________________________________________\n"
     ]
    }
   ],
   "source": [
    "# build and compile the model\n",
    "\n",
    "inputs = Input(shape=(maxlen,))\n",
    "i = Embedding(x_voc,200,weights=[emb],trainable=True)(inputs)\n",
    "i,h,_ = LSTM(100,return_sequences=True,return_state=True,dropout=0.2)(i)\n",
    "i,_ = Attention(100)(i,h)\n",
    "i = Dense(100,activation='relu')(i)\n",
    "i = BatchNormalization()(i)\n",
    "i = Dropout(0.2)(i)\n",
    "outputs = Dense(1,activation='sigmoid')(i)\n",
    "\n",
    "model = Model(inputs,outputs)\n",
    "\n",
    "rms = RMSprop(learning_rate=0.00005)\n",
    "\n",
    "model.compile(loss='binary_crossentropy',\n",
    "              optimizer=rms,\n",
    "              metrics=['accuracy'])\n",
    "    \n",
    "\n",
    "model.summary()"
   ]
  },
  {
   "cell_type": "code",
   "execution_count": 14,
   "id": "a11d4b05",
   "metadata": {},
   "outputs": [
    {
     "name": "stdout",
     "output_type": "stream",
     "text": [
      "epoch = 1/40\n",
      "90/90 [==============================] - 4s 16ms/step - loss: 0.6334 - accuracy: 0.6532\n",
      "36/36 [==============================] - 0s 5ms/step - loss: 0.6667 - accuracy: 0.7496\n",
      "\n",
      "epoch = 2/40\n",
      "90/90 [==============================] - 1s 14ms/step - loss: 0.5382 - accuracy: 0.7395\n",
      "36/36 [==============================] - 0s 5ms/step - loss: 0.6338 - accuracy: 0.7828\n",
      "\n",
      "epoch = 3/40\n",
      "90/90 [==============================] - 1s 13ms/step - loss: 0.5082 - accuracy: 0.7628\n",
      "36/36 [==============================] - 0s 5ms/step - loss: 0.5928 - accuracy: 0.7968\n",
      "\n",
      "epoch = 4/40\n",
      "90/90 [==============================] - 1s 13ms/step - loss: 0.4891 - accuracy: 0.7691\n",
      "36/36 [==============================] - 0s 4ms/step - loss: 0.5423 - accuracy: 0.7960\n",
      "\n",
      "epoch = 5/40\n",
      "90/90 [==============================] - 1s 14ms/step - loss: 0.4770 - accuracy: 0.7840\n",
      "36/36 [==============================] - 0s 4ms/step - loss: 0.4924 - accuracy: 0.8047\n",
      "\n",
      "epoch = 6/40\n",
      "90/90 [==============================] - 1s 14ms/step - loss: 0.4647 - accuracy: 0.7888\n",
      "36/36 [==============================] - 0s 5ms/step - loss: 0.4522 - accuracy: 0.8030\n",
      "\n",
      "epoch = 7/40\n",
      "90/90 [==============================] - 1s 14ms/step - loss: 0.4591 - accuracy: 0.7949\n",
      "36/36 [==============================] - 0s 5ms/step - loss: 0.4281 - accuracy: 0.8091\n",
      "\n",
      "epoch = 8/40\n",
      "90/90 [==============================] - 1s 13ms/step - loss: 0.4536 - accuracy: 0.7970\n",
      "36/36 [==============================] - 0s 4ms/step - loss: 0.4147 - accuracy: 0.8179\n",
      "\n",
      "epoch = 9/40\n",
      "90/90 [==============================] - 1s 13ms/step - loss: 0.4542 - accuracy: 0.7989\n",
      "36/36 [==============================] - 0s 4ms/step - loss: 0.4076 - accuracy: 0.8179\n",
      "\n",
      "epoch = 10/40\n",
      "90/90 [==============================] - 1s 13ms/step - loss: 0.4393 - accuracy: 0.8101\n",
      "36/36 [==============================] - 0s 4ms/step - loss: 0.4043 - accuracy: 0.8144\n",
      "\n",
      "epoch = 11/40\n",
      "90/90 [==============================] - 1s 13ms/step - loss: 0.4317 - accuracy: 0.8103\n",
      "36/36 [==============================] - 0s 4ms/step - loss: 0.4006 - accuracy: 0.8170\n",
      "\n",
      "epoch = 12/40\n",
      "90/90 [==============================] - 1s 13ms/step - loss: 0.4384 - accuracy: 0.8128\n",
      "36/36 [==============================] - 0s 5ms/step - loss: 0.3985 - accuracy: 0.8187\n",
      "\n",
      "epoch = 13/40\n",
      "90/90 [==============================] - 1s 13ms/step - loss: 0.4268 - accuracy: 0.8149\n",
      "36/36 [==============================] - 0s 5ms/step - loss: 0.3982 - accuracy: 0.8161\n",
      "\n",
      "epoch = 14/40\n",
      "90/90 [==============================] - 1s 13ms/step - loss: 0.4200 - accuracy: 0.8122\n",
      "36/36 [==============================] - 0s 4ms/step - loss: 0.3961 - accuracy: 0.8196\n",
      "\n",
      "epoch = 15/40\n",
      "90/90 [==============================] - 1s 13ms/step - loss: 0.4140 - accuracy: 0.8178\n",
      "36/36 [==============================] - 0s 5ms/step - loss: 0.3946 - accuracy: 0.8214\n",
      "\n",
      "epoch = 16/40\n",
      "90/90 [==============================] - 1s 13ms/step - loss: 0.4070 - accuracy: 0.8194\n",
      "36/36 [==============================] - 0s 4ms/step - loss: 0.3932 - accuracy: 0.8187\n",
      "\n",
      "epoch = 17/40\n",
      "90/90 [==============================] - 1s 13ms/step - loss: 0.4111 - accuracy: 0.8191\n",
      "36/36 [==============================] - 0s 4ms/step - loss: 0.3927 - accuracy: 0.8205\n",
      "\n",
      "epoch = 18/40\n",
      "90/90 [==============================] - 1s 14ms/step - loss: 0.3990 - accuracy: 0.8283\n",
      "36/36 [==============================] - 0s 5ms/step - loss: 0.3927 - accuracy: 0.8231\n",
      "\n",
      "epoch = 19/40\n",
      "90/90 [==============================] - 1s 14ms/step - loss: 0.4047 - accuracy: 0.8243\n",
      "36/36 [==============================] - 0s 4ms/step - loss: 0.3913 - accuracy: 0.8231\n",
      "\n",
      "epoch = 20/40\n",
      "90/90 [==============================] - 1s 13ms/step - loss: 0.3967 - accuracy: 0.8285\n",
      "36/36 [==============================] - 0s 5ms/step - loss: 0.3909 - accuracy: 0.8284\n",
      "\n",
      "epoch = 21/40\n",
      "90/90 [==============================] - 1s 14ms/step - loss: 0.3984 - accuracy: 0.8262\n",
      "36/36 [==============================] - 0s 4ms/step - loss: 0.3897 - accuracy: 0.8222\n",
      "\n",
      "epoch = 22/40\n",
      "90/90 [==============================] - 1s 14ms/step - loss: 0.3928 - accuracy: 0.8322\n",
      "36/36 [==============================] - 0s 5ms/step - loss: 0.3887 - accuracy: 0.8266\n",
      "\n",
      "epoch = 23/40\n",
      "90/90 [==============================] - 1s 14ms/step - loss: 0.3877 - accuracy: 0.8303\n",
      "36/36 [==============================] - 0s 4ms/step - loss: 0.3898 - accuracy: 0.8257\n",
      "\n",
      "epoch = 24/40\n",
      "90/90 [==============================] - 1s 13ms/step - loss: 0.3807 - accuracy: 0.8360\n",
      "36/36 [==============================] - 0s 4ms/step - loss: 0.3893 - accuracy: 0.8240\n",
      "\n",
      "epoch = 25/40\n",
      "90/90 [==============================] - 1s 13ms/step - loss: 0.3740 - accuracy: 0.8422\n",
      "36/36 [==============================] - 0s 4ms/step - loss: 0.3889 - accuracy: 0.8301\n",
      "\n",
      "epoch = 26/40\n",
      "90/90 [==============================] - 1s 13ms/step - loss: 0.3731 - accuracy: 0.8413\n",
      "36/36 [==============================] - 0s 5ms/step - loss: 0.3889 - accuracy: 0.8275\n",
      "\n",
      "epoch = 27/40\n",
      "90/90 [==============================] - 1s 14ms/step - loss: 0.3749 - accuracy: 0.8403\n",
      "36/36 [==============================] - 0s 5ms/step - loss: 0.3898 - accuracy: 0.8284\n",
      "\n",
      "epoch = 28/40\n",
      "90/90 [==============================] - 1s 13ms/step - loss: 0.3662 - accuracy: 0.8443\n",
      "36/36 [==============================] - 0s 5ms/step - loss: 0.3913 - accuracy: 0.8257\n",
      "\n",
      "epoch = 29/40\n",
      "90/90 [==============================] - 1s 14ms/step - loss: 0.3671 - accuracy: 0.8415\n",
      "36/36 [==============================] - 0s 5ms/step - loss: 0.3900 - accuracy: 0.8266\n",
      "\n",
      "epoch = 30/40\n",
      "90/90 [==============================] - 1s 14ms/step - loss: 0.3666 - accuracy: 0.8445\n",
      "36/36 [==============================] - 0s 5ms/step - loss: 0.3894 - accuracy: 0.8292\n",
      "\n",
      "epoch = 31/40\n",
      "90/90 [==============================] - 1s 14ms/step - loss: 0.3614 - accuracy: 0.8464\n",
      "36/36 [==============================] - 0s 4ms/step - loss: 0.3900 - accuracy: 0.8284\n",
      "\n",
      "epoch = 32/40\n",
      "90/90 [==============================] - 1s 14ms/step - loss: 0.3598 - accuracy: 0.8480\n",
      "36/36 [==============================] - 0s 4ms/step - loss: 0.3890 - accuracy: 0.8284\n",
      "\n",
      "epoch = 33/40\n",
      "90/90 [==============================] - 1s 14ms/step - loss: 0.3535 - accuracy: 0.8537\n",
      "36/36 [==============================] - 0s 5ms/step - loss: 0.3908 - accuracy: 0.8275\n",
      "\n",
      "epoch = 34/40\n",
      "90/90 [==============================] - 1s 14ms/step - loss: 0.3519 - accuracy: 0.8495\n",
      "36/36 [==============================] - 0s 5ms/step - loss: 0.3923 - accuracy: 0.8310\n",
      "\n",
      "epoch = 35/40\n",
      "90/90 [==============================] - 1s 14ms/step - loss: 0.3366 - accuracy: 0.8569\n",
      "36/36 [==============================] - 0s 4ms/step - loss: 0.3933 - accuracy: 0.8196\n",
      "\n",
      "epoch = 36/40\n",
      "90/90 [==============================] - 1s 14ms/step - loss: 0.3407 - accuracy: 0.8565\n",
      "36/36 [==============================] - 0s 5ms/step - loss: 0.3928 - accuracy: 0.8292\n",
      "\n",
      "epoch = 37/40\n",
      "90/90 [==============================] - 1s 14ms/step - loss: 0.3469 - accuracy: 0.8550\n",
      "36/36 [==============================] - 0s 5ms/step - loss: 0.3908 - accuracy: 0.8275\n",
      "\n",
      "epoch = 38/40\n",
      "90/90 [==============================] - 1s 14ms/step - loss: 0.3369 - accuracy: 0.8564\n",
      "36/36 [==============================] - 0s 4ms/step - loss: 0.3909 - accuracy: 0.8327\n",
      "\n",
      "epoch = 39/40\n",
      "90/90 [==============================] - 1s 14ms/step - loss: 0.3339 - accuracy: 0.8641\n",
      "36/36 [==============================] - 0s 4ms/step - loss: 0.3919 - accuracy: 0.8292\n",
      "\n",
      "epoch = 40/40\n",
      "90/90 [==============================] - 1s 14ms/step - loss: 0.3338 - accuracy: 0.8579\n",
      "36/36 [==============================] - 0s 5ms/step - loss: 0.3917 - accuracy: 0.8327\n",
      "\n"
     ]
    }
   ],
   "source": [
    "# training at 40 epochs and saving weights with smallest val_loss\n",
    "\n",
    "epochs=40\n",
    "\n",
    "metrics = {'accuracy':[],'val_accuracy':[],'loss':[],'val_loss':[]}\n",
    "\n",
    "print(f'epoch = 1/{epochs}')\n",
    "model.fit(xtrain,ytrain,epochs=1,batch_size=64)\n",
    "loss,acc = model.evaluate(xtrain,ytrain,verbose=0)\n",
    "metrics['accuracy'].append(acc)\n",
    "metrics['loss'].append(loss)\n",
    "loss,acc = model.evaluate(xval,yval)\n",
    "metrics['val_loss'].append(loss)\n",
    "metrics['val_accuracy'].append(acc)\n",
    "print()\n",
    "for i in range(2,epochs+1):\n",
    "    print(f'epoch = {i}/{epochs}')\n",
    "    model.fit(xtrain,ytrain,epochs=1,batch_size=64)\n",
    "    loss,acc = model.evaluate(xtrain,ytrain,verbose=0)\n",
    "    metrics['accuracy'].append(acc)\n",
    "    metrics['loss'].append(loss)\n",
    "    loss,acc = model.evaluate(xval,yval)\n",
    "    metrics['val_loss'].append(loss)\n",
    "    metrics['val_accuracy'].append(acc)\n",
    "    print()\n",
    "    if loss<metrics['val_loss'][-1]: \n",
    "        model.save_weights('weights')\n",
    "        best_met = met"
   ]
  },
  {
   "cell_type": "code",
   "execution_count": 15,
   "id": "0446da41",
   "metadata": {},
   "outputs": [
    {
     "data": {
      "image/png": "[encoded data removed]",
      "text/plain": [
       "<Figure size 432x288 with 1 Axes>"
      ]
     },
     "metadata": {
      "needs_background": "light"
     },
     "output_type": "display_data"
    },
    {
     "data": {
      "image/png": "[encoded data removed]",
      "text/plain": [
       "<Figure size 432x288 with 1 Axes>"
      ]
     },
     "metadata": {
      "needs_background": "light"
     },
     "output_type": "display_data"
    }
   ],
   "source": [
    "# visualising training and validation metrics\n",
    "metrics = pd.DataFrame(metrics)\n",
    "metrics[['loss','val_loss']].plot()\n",
    "plt.show()\n",
    "metrics[['accuracy','val_accuracy']].plot()\n",
    "plt.show()"
   ]
  },
  {
   "cell_type": "code",
   "execution_count": 16,
   "id": "fe24ab82",
   "metadata": {},
   "outputs": [
    {
     "name": "stdout",
     "output_type": "stream",
     "text": [
      "36/36 [==============================] - 0s 9ms/step - loss: 0.3927 - accuracy: 0.8187\n",
      "24/24 [==============================] - 0s 5ms/step - loss: 0.4381 - accuracy: 0.8097\n"
     ]
    },
    {
     "data": {
      "text/plain": [
       "[0.4381180703639984, 0.8097112774848938]"
      ]
     },
     "execution_count": 16,
     "metadata": {},
     "output_type": "execute_result"
    }
   ],
   "source": [
    "# load best weights\n",
    "model.load_weights('weights')\n",
    "model.evaluate(xval,yval) #loss and accuracy of validation data\n",
    "model.evaluate(xtest,ytest) #loss and accuracy of test data"
   ]
  },
  {
   "cell_type": "code",
   "execution_count": 17,
   "id": "eb41ce12",
   "metadata": {},
   "outputs": [
    {
     "name": "stdout",
     "output_type": "stream",
     "text": [
      "              precision    recall  f1-score   support\n",
      "\n",
      "         0.0       0.90      0.79      0.84       484\n",
      "         1.0       0.70      0.84      0.76       278\n",
      "\n",
      "    accuracy                           0.81       762\n",
      "   macro avg       0.80      0.82      0.80       762\n",
      "weighted avg       0.82      0.81      0.81       762\n",
      "\n"
     ]
    },
    {
     "data": {
      "text/plain": [
       "<AxesSubplot:>"
      ]
     },
     "execution_count": 17,
     "metadata": {},
     "output_type": "execute_result"
    },
    {
     "data": {
      "image/png": "[encoded data removed]",
      "text/plain": [
       "<Figure size 432x288 with 2 Axes>"
      ]
     },
     "metadata": {
      "needs_background": "light"
     },
     "output_type": "display_data"
    }
   ],
   "source": [
    "# get classification report and confusion matrix\n",
    "\n",
    "pred = np.round(model.predict(xtest)).flatten()\n",
    "print(classification_report(pred,ytest))\n",
    "sb.heatmap(confusion_matrix(pred,ytest),annot=True,fmt='d',cmap='Blues')"
   ]
  },
  {
   "cell_type": "code",
   "execution_count": 18,
   "id": "60154121",
   "metadata": {},
   "outputs": [],
   "source": [
    "# submission\n",
    "\n",
    "test = pd.read_csv('test.csv',encoding='utf-8')\n",
    "test = test[['id','text']]\n",
    "x_sub = test.text.apply(lambda x: clean_text(x))\n",
    "\n",
    "seq = tk.texts_to_sequences(x_sub)\n",
    "x_sub = pad_sequences(seq,maxlen=maxlen,padding='post')\n",
    "\n",
    "pred = np.round(model.predict(x_sub)).flatten()\n",
    "\n",
    "test['target'] = pred\n",
    "test.target = test.target.apply(lambda x: int(x))\n",
    "\n",
    "test[['id','target']].to_csv('submission.csv',index=False)"
   ]
  }
 ],
 "metadata": {
  "kernelspec": {
   "display_name": "Python 3 (ipykernel)",
   "language": "python",
   "name": "python3"
  },
  "language_info": {
   "codemirror_mode": {
    "name": "ipython",
    "version": 3
   },
   "file_extension": ".py",
   "mimetype": "text/x-python",
   "name": "python",
   "nbconvert_exporter": "python",
   "pygments_lexer": "ipython3",
   "version": "3.8.6"
  }
 },
 "nbformat": 4,
 "nbformat_minor": 5
}
