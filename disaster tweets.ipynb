{
 "cells": [
  {
   "cell_type": "code",
   "execution_count": 1,
   "id": "bfa41957",
   "metadata": {},
   "outputs": [],
   "source": [
    "import pandas as pd\n",
    "import matplotlib.pyplot as plt\n",
    "import spacy\n",
    "import numpy as np\n",
    "import string\n",
    "import validators as val\n",
    "import seaborn as sb\n",
    "from yake import KeywordExtractor\n",
    "\n",
    "from sklearn.metrics import confusion_matrix, classification_report, f1_score, accuracy_score\n",
    "from sklearn.model_selection import train_test_split, StratifiedKFold\n",
    "\n",
    "import tensorflow as tf\n",
    "from tensorflow.keras.preprocessing.text import Tokenizer\n",
    "from tensorflow.keras.preprocessing.sequence import pad_sequences\n",
    "from tensorflow.keras.layers import LSTM, Dense, Embedding, Input, BatchNormalization, Dropout\n",
    "from tensorflow.keras.models import Model\n",
    "from tensorflow.keras.optimizers import Adam\n",
    "from tensorflow.keras import backend as K\n",
    "\n",
    "en_model = spacy.load('en_core_web_md')"
   ]
  },
  {
   "cell_type": "code",
   "execution_count": 2,
   "id": "34240121",
   "metadata": {},
   "outputs": [
    {
     "name": "stdout",
     "output_type": "stream",
     "text": [
      "<class 'pandas.core.frame.DataFrame'>\n",
      "RangeIndex: 7613 entries, 0 to 7612\n",
      "Data columns (total 5 columns):\n",
      " #   Column    Non-Null Count  Dtype \n",
      "---  ------    --------------  ----- \n",
      " 0   id        7613 non-null   int64 \n",
      " 1   keyword   7552 non-null   object\n",
      " 2   location  5080 non-null   object\n",
      " 3   text      7613 non-null   object\n",
      " 4   target    7613 non-null   int64 \n",
      "dtypes: int64(2), object(3)\n",
      "memory usage: 297.5+ KB\n"
     ]
    }
   ],
   "source": [
    "df = pd.read_csv('train.csv',encoding='utf-8')\n",
    "df.info()"
   ]
  },
  {
   "cell_type": "code",
   "execution_count": 3,
   "id": "4ff1edcf",
   "metadata": {},
   "outputs": [
    {
     "name": "stdout",
     "output_type": "stream",
     "text": [
      "0    4342\n",
      "1    3271\n",
      "Name: target, dtype: int64\n"
     ]
    },
    {
     "data": {
      "text/plain": [
       "<AxesSubplot:xlabel='target', ylabel='count'>"
      ]
     },
     "execution_count": 3,
     "metadata": {},
     "output_type": "execute_result"
    },
    {
     "data": {
      "image/png": "[encoded data removed]",
      "text/plain": [
       "<Figure size 432x288 with 1 Axes>"
      ]
     },
     "metadata": {
      "needs_background": "light"
     },
     "output_type": "display_data"
    }
   ],
   "source": [
    "# check target class counts\n",
    "print(df.target.value_counts())\n",
    "sb.countplot(x=df.target)"
   ]
  },
  {
   "cell_type": "markdown",
   "id": "fe7c18f5",
   "metadata": {},
   "source": [
    "The target column is well balanced"
   ]
  },
  {
   "cell_type": "code",
   "execution_count": 4,
   "id": "d2283ab8",
   "metadata": {},
   "outputs": [
    {
     "name": "stdout",
     "output_type": "stream",
     "text": [
      "keyword 0.008012610009194798\n",
      "location 0.33272034677525286\n"
     ]
    }
   ],
   "source": [
    "# check for missing data\n",
    "for col in df.columns:\n",
    "    if df[col].isnull().mean()>0:\n",
    "        print(col,df[col].isnull().mean())"
   ]
  },
  {
   "cell_type": "code",
   "execution_count": 5,
   "id": "76d462c6",
   "metadata": {},
   "outputs": [],
   "source": [
    "# drop location column and fill keyword column with the mode value\n",
    "df = df[['text','target','keyword']].fillna('nill')"
   ]
  },
  {
   "cell_type": "code",
   "execution_count": 6,
   "id": "4172ebdf",
   "metadata": {},
   "outputs": [],
   "source": [
    "# clean keyword column\n",
    "def clean_keyword(x):\n",
    "    x = x.replace('%20',' ')\n",
    "    tok = en_model(x)\n",
    "    tok = [str(x.lemma_) for x in tok]\n",
    "    return ' '.join(tok)\n",
    "\n",
    "df.keyword = df.keyword.apply(lambda x: clean_keyword(x))"
   ]
  },
  {
   "cell_type": "code",
   "execution_count": 7,
   "id": "0074efa1",
   "metadata": {},
   "outputs": [],
   "source": [
    "# text cleaning function\n",
    "# removes numbers, URLs, stopwords, punctuations and twitter handles\n",
    "def clean_text(text):\n",
    "    toks = text.split()\n",
    "    toks = [t for t in toks if not val.url(t) and '@' not in t]\n",
    "    toks = ' '.join(toks)\n",
    "    for p in string.punctuation:\n",
    "        if p not in ('#','@'):\n",
    "            toks = toks.replace(p,' ')\n",
    "    \n",
    "    toks = toks.lower().split()\n",
    "    toks = [t for t in toks if '@' not in t]\n",
    "    toks = en_model(\" \".join(toks))\n",
    "    toks = [t for t in toks if str(t)!=\"'s\"]\n",
    "    toks = [t for t in toks if not t.is_stop and not t.is_digit]\n",
    "    toks = [str(t) for t in toks if len(str(t))>1]\n",
    "    return ' '.join(toks)"
   ]
  },
  {
   "cell_type": "code",
   "execution_count": 8,
   "id": "0943ce78",
   "metadata": {},
   "outputs": [
    {
     "name": "stdout",
     "output_type": "stream",
     "text": [
      "Original : DK Eyewitness Travel Guide: Denmark: travel guide eBay auctions you should keep an eye on: http://t.co/qPUr3Vd7Hl\n",
      "Cleaned : dk eyewitness travel guide denmark travel guide ebay auctions eye\n",
      "target : 0\n",
      "\n",
      "Original : @itss_selenaluna like a beautiful ass tragedy lol\n",
      "Cleaned : like beautiful ass tragedy lol\n",
      "target : 1\n",
      "\n",
      "Original : Any lengths to rescue a cat in need! http://t.co/AMroX4Y4Nx\n",
      "Cleaned : lengths rescue cat need\n",
      "target : 0\n",
      "\n",
      "Original : #Japan #Fukushima the most serious man made disaster in human history...  ÛÏa marker of radiation brain damageÛ http://t.co/Y3ZfqJsvpz\n",
      "Cleaned : japan fukushima man disaster human history ûïa marker radiation brain damageû\n",
      "target : 1\n",
      "\n",
      "Original : @WhiteHouse @POTUS Just cos Germany invaded Poland Japan bombed Pearl Harbor PRE-EMPTIVE SUICIDE http://t.co/I2AAG6Lp6W\n",
      "Cleaned : cos germany invaded poland japan bombed pearl harbor pre emptive suicide\n",
      "target : 1\n",
      "\n"
     ]
    }
   ],
   "source": [
    "# original vs cleaned\n",
    "for _ in range(5):\n",
    "    i = np.random.randint(0,len(df))\n",
    "    print('Original : '+df.text[i]+'\\nCleaned : '+clean_text(df.text[i]))\n",
    "    print('target :',df.target[i])\n",
    "    print()"
   ]
  },
  {
   "cell_type": "code",
   "execution_count": 9,
   "id": "44ed57e4",
   "metadata": {},
   "outputs": [],
   "source": [
    "df['clean_text'] = df.text.apply(lambda x: clean_text(x))"
   ]
  },
  {
   "cell_type": "code",
   "execution_count": 10,
   "id": "58f7d0ea",
   "metadata": {},
   "outputs": [
    {
     "data": {
      "text/plain": [
       "<AxesSubplot:xlabel='word_count', ylabel='Count'>"
      ]
     },
     "execution_count": 10,
     "metadata": {},
     "output_type": "execute_result"
    },
    {
     "data": {
      "image/png": "[encoded data removed]",
      "text/plain": [
       "<Figure size 432x288 with 1 Axes>"
      ]
     },
     "metadata": {
      "needs_background": "light"
     },
     "output_type": "display_data"
    }
   ],
   "source": [
    "# get word count of each tweet after cleaning\n",
    "df['word_count'] = df.clean_text.apply(lambda x: len(x.split()))\n",
    "\n",
    "# distribution of word count\n",
    "sb.histplot(data=df,x='word_count',hue='target',bins=20)"
   ]
  },
  {
   "cell_type": "code",
   "execution_count": 11,
   "id": "3cf3ac43",
   "metadata": {},
   "outputs": [
    {
     "name": "stderr",
     "output_type": "stream",
     "text": [
      "C:\\Users\\BJS\\AppData\\Local\\Temp\\ipykernel_18516\\3101570410.py:10: SettingWithCopyWarning: \n",
      "A value is trying to be set on a copy of a slice from a DataFrame\n",
      "\n",
      "See the caveats in the documentation: https://pandas.pydata.org/pandas-docs/stable/user_guide/indexing.html#returning-a-view-versus-a-copy\n",
      "  df.keyword.loc[i] = kw[0]\n",
      "C:\\Users\\BJS\\AppData\\Local\\Temp\\ipykernel_18516\\3101570410.py:12: SettingWithCopyWarning: \n",
      "A value is trying to be set on a copy of a slice from a DataFrame\n",
      "\n",
      "See the caveats in the documentation: https://pandas.pydata.org/pandas-docs/stable/user_guide/indexing.html#returning-a-view-versus-a-copy\n",
      "  df.keyword.loc[i] = df.keyword.mode()[0]\n",
      "C:\\Users\\BJS\\AppData\\Local\\Temp\\ipykernel_18516\\3101570410.py:10: SettingWithCopyWarning: \n",
      "A value is trying to be set on a copy of a slice from a DataFrame\n",
      "\n",
      "See the caveats in the documentation: https://pandas.pydata.org/pandas-docs/stable/user_guide/indexing.html#returning-a-view-versus-a-copy\n",
      "  df.keyword.loc[i] = kw[0]\n",
      "C:\\Users\\BJS\\AppData\\Local\\Temp\\ipykernel_18516\\3101570410.py:12: SettingWithCopyWarning: \n",
      "A value is trying to be set on a copy of a slice from a DataFrame\n",
      "\n",
      "See the caveats in the documentation: https://pandas.pydata.org/pandas-docs/stable/user_guide/indexing.html#returning-a-view-versus-a-copy\n",
      "  df.keyword.loc[i] = df.keyword.mode()[0]\n",
      "C:\\Users\\BJS\\AppData\\Local\\Temp\\ipykernel_18516\\3101570410.py:12: SettingWithCopyWarning: \n",
      "A value is trying to be set on a copy of a slice from a DataFrame\n",
      "\n",
      "See the caveats in the documentation: https://pandas.pydata.org/pandas-docs/stable/user_guide/indexing.html#returning-a-view-versus-a-copy\n",
      "  df.keyword.loc[i] = df.keyword.mode()[0]\n",
      "C:\\Users\\BJS\\AppData\\Local\\Temp\\ipykernel_18516\\3101570410.py:12: SettingWithCopyWarning: \n",
      "A value is trying to be set on a copy of a slice from a DataFrame\n",
      "\n",
      "See the caveats in the documentation: https://pandas.pydata.org/pandas-docs/stable/user_guide/indexing.html#returning-a-view-versus-a-copy\n",
      "  df.keyword.loc[i] = df.keyword.mode()[0]\n",
      "C:\\Users\\BJS\\AppData\\Local\\Temp\\ipykernel_18516\\3101570410.py:12: SettingWithCopyWarning: \n",
      "A value is trying to be set on a copy of a slice from a DataFrame\n",
      "\n",
      "See the caveats in the documentation: https://pandas.pydata.org/pandas-docs/stable/user_guide/indexing.html#returning-a-view-versus-a-copy\n",
      "  df.keyword.loc[i] = df.keyword.mode()[0]\n",
      "C:\\Users\\BJS\\AppData\\Local\\Temp\\ipykernel_18516\\3101570410.py:12: SettingWithCopyWarning: \n",
      "A value is trying to be set on a copy of a slice from a DataFrame\n",
      "\n",
      "See the caveats in the documentation: https://pandas.pydata.org/pandas-docs/stable/user_guide/indexing.html#returning-a-view-versus-a-copy\n",
      "  df.keyword.loc[i] = df.keyword.mode()[0]\n",
      "C:\\Users\\BJS\\AppData\\Local\\Temp\\ipykernel_18516\\3101570410.py:12: SettingWithCopyWarning: \n",
      "A value is trying to be set on a copy of a slice from a DataFrame\n",
      "\n",
      "See the caveats in the documentation: https://pandas.pydata.org/pandas-docs/stable/user_guide/indexing.html#returning-a-view-versus-a-copy\n",
      "  df.keyword.loc[i] = df.keyword.mode()[0]\n",
      "C:\\Users\\BJS\\AppData\\Local\\Temp\\ipykernel_18516\\3101570410.py:12: SettingWithCopyWarning: \n",
      "A value is trying to be set on a copy of a slice from a DataFrame\n",
      "\n",
      "See the caveats in the documentation: https://pandas.pydata.org/pandas-docs/stable/user_guide/indexing.html#returning-a-view-versus-a-copy\n",
      "  df.keyword.loc[i] = df.keyword.mode()[0]\n",
      "C:\\Users\\BJS\\AppData\\Local\\Temp\\ipykernel_18516\\3101570410.py:12: SettingWithCopyWarning: \n",
      "A value is trying to be set on a copy of a slice from a DataFrame\n",
      "\n",
      "See the caveats in the documentation: https://pandas.pydata.org/pandas-docs/stable/user_guide/indexing.html#returning-a-view-versus-a-copy\n",
      "  df.keyword.loc[i] = df.keyword.mode()[0]\n",
      "C:\\Users\\BJS\\AppData\\Local\\Temp\\ipykernel_18516\\3101570410.py:12: SettingWithCopyWarning: \n",
      "A value is trying to be set on a copy of a slice from a DataFrame\n",
      "\n",
      "See the caveats in the documentation: https://pandas.pydata.org/pandas-docs/stable/user_guide/indexing.html#returning-a-view-versus-a-copy\n",
      "  df.keyword.loc[i] = df.keyword.mode()[0]\n",
      "C:\\Users\\BJS\\AppData\\Local\\Temp\\ipykernel_18516\\3101570410.py:12: SettingWithCopyWarning: \n",
      "A value is trying to be set on a copy of a slice from a DataFrame\n",
      "\n",
      "See the caveats in the documentation: https://pandas.pydata.org/pandas-docs/stable/user_guide/indexing.html#returning-a-view-versus-a-copy\n",
      "  df.keyword.loc[i] = df.keyword.mode()[0]\n",
      "C:\\Users\\BJS\\AppData\\Local\\Temp\\ipykernel_18516\\3101570410.py:12: SettingWithCopyWarning: \n",
      "A value is trying to be set on a copy of a slice from a DataFrame\n",
      "\n",
      "See the caveats in the documentation: https://pandas.pydata.org/pandas-docs/stable/user_guide/indexing.html#returning-a-view-versus-a-copy\n",
      "  df.keyword.loc[i] = df.keyword.mode()[0]\n",
      "C:\\Users\\BJS\\AppData\\Local\\Temp\\ipykernel_18516\\3101570410.py:12: SettingWithCopyWarning: \n",
      "A value is trying to be set on a copy of a slice from a DataFrame\n",
      "\n",
      "See the caveats in the documentation: https://pandas.pydata.org/pandas-docs/stable/user_guide/indexing.html#returning-a-view-versus-a-copy\n",
      "  df.keyword.loc[i] = df.keyword.mode()[0]\n",
      "C:\\Users\\BJS\\AppData\\Local\\Temp\\ipykernel_18516\\3101570410.py:12: SettingWithCopyWarning: \n",
      "A value is trying to be set on a copy of a slice from a DataFrame\n",
      "\n",
      "See the caveats in the documentation: https://pandas.pydata.org/pandas-docs/stable/user_guide/indexing.html#returning-a-view-versus-a-copy\n",
      "  df.keyword.loc[i] = df.keyword.mode()[0]\n",
      "C:\\Users\\BJS\\AppData\\Local\\Temp\\ipykernel_18516\\3101570410.py:12: SettingWithCopyWarning: \n",
      "A value is trying to be set on a copy of a slice from a DataFrame\n",
      "\n",
      "See the caveats in the documentation: https://pandas.pydata.org/pandas-docs/stable/user_guide/indexing.html#returning-a-view-versus-a-copy\n",
      "  df.keyword.loc[i] = df.keyword.mode()[0]\n",
      "C:\\Users\\BJS\\AppData\\Local\\Temp\\ipykernel_18516\\3101570410.py:12: SettingWithCopyWarning: \n",
      "A value is trying to be set on a copy of a slice from a DataFrame\n",
      "\n",
      "See the caveats in the documentation: https://pandas.pydata.org/pandas-docs/stable/user_guide/indexing.html#returning-a-view-versus-a-copy\n",
      "  df.keyword.loc[i] = df.keyword.mode()[0]\n",
      "C:\\Users\\BJS\\AppData\\Local\\Temp\\ipykernel_18516\\3101570410.py:12: SettingWithCopyWarning: \n",
      "A value is trying to be set on a copy of a slice from a DataFrame\n",
      "\n",
      "See the caveats in the documentation: https://pandas.pydata.org/pandas-docs/stable/user_guide/indexing.html#returning-a-view-versus-a-copy\n",
      "  df.keyword.loc[i] = df.keyword.mode()[0]\n",
      "C:\\Users\\BJS\\AppData\\Local\\Temp\\ipykernel_18516\\3101570410.py:10: SettingWithCopyWarning: \n",
      "A value is trying to be set on a copy of a slice from a DataFrame\n",
      "\n",
      "See the caveats in the documentation: https://pandas.pydata.org/pandas-docs/stable/user_guide/indexing.html#returning-a-view-versus-a-copy\n",
      "  df.keyword.loc[i] = kw[0]\n",
      "C:\\Users\\BJS\\AppData\\Local\\Temp\\ipykernel_18516\\3101570410.py:12: SettingWithCopyWarning: \n",
      "A value is trying to be set on a copy of a slice from a DataFrame\n",
      "\n",
      "See the caveats in the documentation: https://pandas.pydata.org/pandas-docs/stable/user_guide/indexing.html#returning-a-view-versus-a-copy\n",
      "  df.keyword.loc[i] = df.keyword.mode()[0]\n",
      "C:\\Users\\BJS\\AppData\\Local\\Temp\\ipykernel_18516\\3101570410.py:10: SettingWithCopyWarning: \n",
      "A value is trying to be set on a copy of a slice from a DataFrame\n",
      "\n",
      "See the caveats in the documentation: https://pandas.pydata.org/pandas-docs/stable/user_guide/indexing.html#returning-a-view-versus-a-copy\n",
      "  df.keyword.loc[i] = kw[0]\n",
      "C:\\Users\\BJS\\AppData\\Local\\Temp\\ipykernel_18516\\3101570410.py:12: SettingWithCopyWarning: \n",
      "A value is trying to be set on a copy of a slice from a DataFrame\n",
      "\n",
      "See the caveats in the documentation: https://pandas.pydata.org/pandas-docs/stable/user_guide/indexing.html#returning-a-view-versus-a-copy\n",
      "  df.keyword.loc[i] = df.keyword.mode()[0]\n",
      "C:\\Users\\BJS\\AppData\\Local\\Temp\\ipykernel_18516\\3101570410.py:12: SettingWithCopyWarning: \n",
      "A value is trying to be set on a copy of a slice from a DataFrame\n",
      "\n",
      "See the caveats in the documentation: https://pandas.pydata.org/pandas-docs/stable/user_guide/indexing.html#returning-a-view-versus-a-copy\n",
      "  df.keyword.loc[i] = df.keyword.mode()[0]\n",
      "C:\\Users\\BJS\\AppData\\Local\\Temp\\ipykernel_18516\\3101570410.py:12: SettingWithCopyWarning: \n",
      "A value is trying to be set on a copy of a slice from a DataFrame\n",
      "\n",
      "See the caveats in the documentation: https://pandas.pydata.org/pandas-docs/stable/user_guide/indexing.html#returning-a-view-versus-a-copy\n",
      "  df.keyword.loc[i] = df.keyword.mode()[0]\n",
      "C:\\Users\\BJS\\AppData\\Local\\Temp\\ipykernel_18516\\3101570410.py:12: SettingWithCopyWarning: \n",
      "A value is trying to be set on a copy of a slice from a DataFrame\n",
      "\n",
      "See the caveats in the documentation: https://pandas.pydata.org/pandas-docs/stable/user_guide/indexing.html#returning-a-view-versus-a-copy\n",
      "  df.keyword.loc[i] = df.keyword.mode()[0]\n",
      "C:\\Users\\BJS\\AppData\\Local\\Temp\\ipykernel_18516\\3101570410.py:10: SettingWithCopyWarning: \n",
      "A value is trying to be set on a copy of a slice from a DataFrame\n",
      "\n",
      "See the caveats in the documentation: https://pandas.pydata.org/pandas-docs/stable/user_guide/indexing.html#returning-a-view-versus-a-copy\n",
      "  df.keyword.loc[i] = kw[0]\n",
      "C:\\Users\\BJS\\AppData\\Local\\Temp\\ipykernel_18516\\3101570410.py:12: SettingWithCopyWarning: \n",
      "A value is trying to be set on a copy of a slice from a DataFrame\n",
      "\n",
      "See the caveats in the documentation: https://pandas.pydata.org/pandas-docs/stable/user_guide/indexing.html#returning-a-view-versus-a-copy\n",
      "  df.keyword.loc[i] = df.keyword.mode()[0]\n",
      "C:\\Users\\BJS\\AppData\\Local\\Temp\\ipykernel_18516\\3101570410.py:10: SettingWithCopyWarning: \n",
      "A value is trying to be set on a copy of a slice from a DataFrame\n",
      "\n",
      "See the caveats in the documentation: https://pandas.pydata.org/pandas-docs/stable/user_guide/indexing.html#returning-a-view-versus-a-copy\n",
      "  df.keyword.loc[i] = kw[0]\n",
      "C:\\Users\\BJS\\AppData\\Local\\Temp\\ipykernel_18516\\3101570410.py:12: SettingWithCopyWarning: \n",
      "A value is trying to be set on a copy of a slice from a DataFrame\n",
      "\n",
      "See the caveats in the documentation: https://pandas.pydata.org/pandas-docs/stable/user_guide/indexing.html#returning-a-view-versus-a-copy\n",
      "  df.keyword.loc[i] = df.keyword.mode()[0]\n",
      "C:\\Users\\BJS\\AppData\\Local\\Temp\\ipykernel_18516\\3101570410.py:10: SettingWithCopyWarning: \n",
      "A value is trying to be set on a copy of a slice from a DataFrame\n",
      "\n",
      "See the caveats in the documentation: https://pandas.pydata.org/pandas-docs/stable/user_guide/indexing.html#returning-a-view-versus-a-copy\n",
      "  df.keyword.loc[i] = kw[0]\n"
     ]
    },
    {
     "name": "stderr",
     "output_type": "stream",
     "text": [
      "C:\\Users\\BJS\\AppData\\Local\\Temp\\ipykernel_18516\\3101570410.py:12: SettingWithCopyWarning: \n",
      "A value is trying to be set on a copy of a slice from a DataFrame\n",
      "\n",
      "See the caveats in the documentation: https://pandas.pydata.org/pandas-docs/stable/user_guide/indexing.html#returning-a-view-versus-a-copy\n",
      "  df.keyword.loc[i] = df.keyword.mode()[0]\n",
      "C:\\Users\\BJS\\AppData\\Local\\Temp\\ipykernel_18516\\3101570410.py:10: SettingWithCopyWarning: \n",
      "A value is trying to be set on a copy of a slice from a DataFrame\n",
      "\n",
      "See the caveats in the documentation: https://pandas.pydata.org/pandas-docs/stable/user_guide/indexing.html#returning-a-view-versus-a-copy\n",
      "  df.keyword.loc[i] = kw[0]\n",
      "C:\\Users\\BJS\\AppData\\Local\\Temp\\ipykernel_18516\\3101570410.py:12: SettingWithCopyWarning: \n",
      "A value is trying to be set on a copy of a slice from a DataFrame\n",
      "\n",
      "See the caveats in the documentation: https://pandas.pydata.org/pandas-docs/stable/user_guide/indexing.html#returning-a-view-versus-a-copy\n",
      "  df.keyword.loc[i] = df.keyword.mode()[0]\n",
      "C:\\Users\\BJS\\AppData\\Local\\Temp\\ipykernel_18516\\3101570410.py:10: SettingWithCopyWarning: \n",
      "A value is trying to be set on a copy of a slice from a DataFrame\n",
      "\n",
      "See the caveats in the documentation: https://pandas.pydata.org/pandas-docs/stable/user_guide/indexing.html#returning-a-view-versus-a-copy\n",
      "  df.keyword.loc[i] = kw[0]\n"
     ]
    }
   ],
   "source": [
    "# 0.8% of the values in the keyword column are missing.\n",
    "# impute with the extracted keywords from the cleaned text\n",
    "\n",
    "for i in df[df.keyword=='nill'].index:\n",
    "    text = df.clean_text[i]\n",
    "    ex = KeywordExtractor(n=1)\n",
    "    kw = ex.extract_keywords(text)\n",
    "    kw = [k[0] for k in kw if k[0] in df.keyword.unique()]\n",
    "    if len(kw)>0:\n",
    "        df.keyword.loc[i] = kw[0]\n",
    "    else:\n",
    "        df.keyword.loc[i] = df.keyword.mode()[0]    "
   ]
  },
  {
   "cell_type": "code",
   "execution_count": 12,
   "id": "c3d5be4c",
   "metadata": {},
   "outputs": [
    {
     "data": {
      "text/plain": [
       "(8.857230204830326, 1, 21)"
      ]
     },
     "execution_count": 12,
     "metadata": {},
     "output_type": "execute_result"
    }
   ],
   "source": [
    "df[df.target==1].word_count.mean(),df[df.target==1].word_count.min(),df[df.target==1].word_count.max()"
   ]
  },
  {
   "cell_type": "code",
   "execution_count": 13,
   "id": "b0bcfcc1",
   "metadata": {},
   "outputs": [
    {
     "data": {
      "text/plain": [
       "(7.66305849838784, 0, 20)"
      ]
     },
     "execution_count": 13,
     "metadata": {},
     "output_type": "execute_result"
    }
   ],
   "source": [
    "df[df.target==0].word_count.mean(),df[df.target==0].word_count.min(),df[df.target==0].word_count.max()"
   ]
  },
  {
   "cell_type": "code",
   "execution_count": 14,
   "id": "1565ec4c",
   "metadata": {},
   "outputs": [],
   "source": [
    "x = df.keyword + ' ' + df.clean_text #cleaned input text\n",
    "y = df.target #target feature\n",
    "\n",
    "# get length of longest text\n",
    "maxlen = 0\n",
    "for i in x:\n",
    "    if len(i.split())>maxlen: maxlen=len(i.split())\n",
    "\n",
    "# split data for training, testing and validation to (70:20:10)\n",
    "xtrain,xtest,ytrain,ytest = train_test_split(x,y,train_size=0.7)\n",
    "xtest,xval,ytest,yval = train_test_split(xtest,ytest,train_size=0.7)"
   ]
  },
  {
   "cell_type": "code",
   "execution_count": 15,
   "id": "3f3fde61",
   "metadata": {},
   "outputs": [
    {
     "data": {
      "text/plain": [
       "((5329, 23), (686, 23), (1598, 23), 23)"
      ]
     },
     "execution_count": 15,
     "metadata": {},
     "output_type": "execute_result"
    }
   ],
   "source": [
    "# tokenizing and padding\n",
    "\n",
    "tk = Tokenizer()\n",
    "tk.fit_on_texts(x)\n",
    "\n",
    "seq = tk.texts_to_sequences(xtrain)\n",
    "xtrain = pad_sequences(seq,maxlen=maxlen,padding='post')\n",
    "\n",
    "seq = tk.texts_to_sequences(xval)\n",
    "xval = pad_sequences(seq,maxlen=maxlen,padding='post')\n",
    "\n",
    "seq = tk.texts_to_sequences(xtest)\n",
    "xtest = pad_sequences(seq,maxlen=maxlen,padding='post')\n",
    "\n",
    "x_voc = len(tk.word_counts)+1\n",
    "\n",
    "xtrain.shape,xval.shape,xtest.shape,maxlen"
   ]
  },
  {
   "cell_type": "code",
   "execution_count": 16,
   "id": "71c49d96",
   "metadata": {},
   "outputs": [
    {
     "name": "stdout",
     "output_type": "stream",
     "text": [
      "Loading Glove Model\n",
      "400000 words loaded!\n"
     ]
    }
   ],
   "source": [
    "# load glove vectors\n",
    "def load_glove_model(File):\n",
    "    print(\"Loading Glove Model\")\n",
    "    glove_model = {}\n",
    "    with open(File,'r',encoding='utf-8') as f:\n",
    "        for line in f:\n",
    "            split_line = line.split()\n",
    "            word = split_line[0]\n",
    "            embedding = np.array(split_line[1:], dtype=np.float64)\n",
    "            glove_model[word] = embedding\n",
    "    print(f\"{len(glove_model)} words loaded!\")\n",
    "    return glove_model\n",
    " \n",
    "glove_embeddings = load_glove_model(\"D:/glove.6B.300d.txt\")"
   ]
  },
  {
   "cell_type": "code",
   "execution_count": 17,
   "id": "12dedb49",
   "metadata": {},
   "outputs": [],
   "source": [
    "# create pretrained embedding matrix\n",
    "emb = np.zeros((x_voc,300))\n",
    "for w,idx in tk.word_index.items():\n",
    "    try: emb[idx] = glove_embeddings[w]\n",
    "    except: pass"
   ]
  },
  {
   "cell_type": "code",
   "execution_count": 18,
   "id": "e2e72536",
   "metadata": {},
   "outputs": [],
   "source": [
    "# linear attetion layer\n",
    "class attention(tf.keras.layers.Layer):\n",
    "    def __init__(self,**kwargs):\n",
    "        super(attention,self).__init__(**kwargs)\n",
    " \n",
    "    def build(self,input_shape):\n",
    "        self.W=self.add_weight(name='attention_weight', shape=(input_shape[-1],1), \n",
    "                               initializer='random_normal', trainable=True)\n",
    "        self.b=self.add_weight(name='attention_bias', shape=(input_shape[1],1), \n",
    "                               initializer='zeros', trainable=True)        \n",
    "        super(attention, self).build(input_shape)\n",
    " \n",
    "    def call(self,x):\n",
    "        e = K.tanh(K.dot(x,self.W)+self.b)\n",
    "        e = K.squeeze(e, axis=-1)   \n",
    "        alpha = K.softmax(e)\n",
    "        alpha = K.expand_dims(alpha, axis=-1)\n",
    "        context = x * alpha\n",
    "        context = K.sum(context, axis=1)\n",
    "        return context"
   ]
  },
  {
   "cell_type": "code",
   "execution_count": 19,
   "id": "4923a1a7",
   "metadata": {},
   "outputs": [
    {
     "name": "stdout",
     "output_type": "stream",
     "text": [
      "Model: \"model\"\n",
      "_________________________________________________________________\n",
      " Layer (type)                Output Shape              Param #   \n",
      "=================================================================\n",
      " input_1 (InputLayer)        [(None, 23)]              0         \n",
      "                                                                 \n",
      " embedding (Embedding)       (None, 23, 300)           4332600   \n",
      "                                                                 \n",
      " lstm (LSTM)                 (None, 23, 200)           400800    \n",
      "                                                                 \n",
      " attention (attention)       (None, 200)               223       \n",
      "                                                                 \n",
      " dense (Dense)               (None, 100)               20100     \n",
      "                                                                 \n",
      " dropout (Dropout)           (None, 100)               0         \n",
      "                                                                 \n",
      " batch_normalization (BatchN  (None, 100)              400       \n",
      " ormalization)                                                   \n",
      "                                                                 \n",
      " dense_1 (Dense)             (None, 1)                 101       \n",
      "                                                                 \n",
      "=================================================================\n",
      "Total params: 4,754,224\n",
      "Trainable params: 4,754,024\n",
      "Non-trainable params: 200\n",
      "_________________________________________________________________\n"
     ]
    }
   ],
   "source": [
    "# build and compile the model\n",
    "\n",
    "def get_model(max_input_len,emb_dim,optimizer,weights):\n",
    "    inputs = Input(shape=(maxlen,))\n",
    "    i = Embedding(x_voc,300,weights=[emb],trainable=True)(inputs)\n",
    "    i = LSTM(200,return_sequences=True)(i)\n",
    "    i = attention()(i)\n",
    "    i = Dense(100,activation='relu')(i)\n",
    "    i = Dropout(0.1)(i)\n",
    "    i = BatchNormalization()(i)\n",
    "    outputs = Dense(1,activation='sigmoid')(i)\n",
    "\n",
    "    model = Model(inputs,outputs)\n",
    "\n",
    "    model.compile(loss='binary_crossentropy',\n",
    "                  optimizer=optimizer,\n",
    "                  metrics=['accuracy'])\n",
    "    return model\n",
    "    \n",
    "adam = Adam(learning_rate=0.00001)\n",
    "model = get_model(max_input_len=maxlen, \n",
    "                  emb_dim=300, \n",
    "                  weights=[emb],\n",
    "                  optimizer=adam)\n",
    "\n",
    "model.summary()"
   ]
  },
  {
   "cell_type": "code",
   "execution_count": 20,
   "id": "a11d4b05",
   "metadata": {
    "scrolled": false
   },
   "outputs": [
    {
     "name": "stdout",
     "output_type": "stream",
     "text": [
      "Epoch = 1/30\n",
      "167/167 [==============================] - 4s 11ms/step - loss: 0.6706 - accuracy: 0.5960\n",
      "22/22 [==============================] - 0s 3ms/step - loss: 0.6696 - accuracy: 0.7041\n",
      "Epoch = 2/30\n",
      "167/167 [==============================] - 2s 10ms/step - loss: 0.5611 - accuracy: 0.7127\n",
      "22/22 [==============================] - 0s 3ms/step - loss: 0.6151 - accuracy: 0.7595\n",
      "Epoch = 3/30\n",
      "167/167 [==============================] - 2s 10ms/step - loss: 0.5184 - accuracy: 0.7461\n",
      "22/22 [==============================] - 0s 3ms/step - loss: 0.5322 - accuracy: 0.7828\n",
      "Epoch = 4/30\n",
      "167/167 [==============================] - 2s 10ms/step - loss: 0.4915 - accuracy: 0.7658\n",
      "22/22 [==============================] - 0s 3ms/step - loss: 0.4747 - accuracy: 0.7901\n",
      "Epoch = 5/30\n",
      "167/167 [==============================] - 2s 10ms/step - loss: 0.4742 - accuracy: 0.7851\n",
      "22/22 [==============================] - 0s 3ms/step - loss: 0.4534 - accuracy: 0.7930\n",
      "Epoch = 6/30\n",
      "167/167 [==============================] - 2s 10ms/step - loss: 0.4580 - accuracy: 0.7887\n",
      "22/22 [==============================] - 0s 3ms/step - loss: 0.4432 - accuracy: 0.7974\n",
      "Epoch = 7/30\n",
      "167/167 [==============================] - 2s 10ms/step - loss: 0.4502 - accuracy: 0.7926\n",
      "22/22 [==============================] - 0s 3ms/step - loss: 0.4371 - accuracy: 0.8047\n",
      "Epoch = 8/30\n",
      "167/167 [==============================] - 2s 10ms/step - loss: 0.4394 - accuracy: 0.8054\n",
      "22/22 [==============================] - 0s 3ms/step - loss: 0.4320 - accuracy: 0.8061\n",
      "Epoch = 9/30\n",
      "167/167 [==============================] - 2s 10ms/step - loss: 0.4315 - accuracy: 0.8084\n",
      "22/22 [==============================] - 0s 4ms/step - loss: 0.4266 - accuracy: 0.8032\n",
      "Epoch = 10/30\n",
      "167/167 [==============================] - 2s 10ms/step - loss: 0.4230 - accuracy: 0.8097\n",
      "22/22 [==============================] - 0s 3ms/step - loss: 0.4232 - accuracy: 0.8090\n",
      "Epoch = 11/30\n",
      "167/167 [==============================] - 2s 10ms/step - loss: 0.4154 - accuracy: 0.8174\n",
      "22/22 [==============================] - 0s 3ms/step - loss: 0.4191 - accuracy: 0.8120\n",
      "Epoch = 12/30\n",
      "167/167 [==============================] - 2s 10ms/step - loss: 0.4103 - accuracy: 0.8199\n",
      "22/22 [==============================] - 0s 3ms/step - loss: 0.4165 - accuracy: 0.8192\n",
      "Epoch = 13/30\n",
      "167/167 [==============================] - 2s 10ms/step - loss: 0.4038 - accuracy: 0.8244\n",
      "22/22 [==============================] - 0s 3ms/step - loss: 0.4142 - accuracy: 0.8192\n",
      "Epoch = 14/30\n",
      "167/167 [==============================] - 2s 10ms/step - loss: 0.4039 - accuracy: 0.8257\n",
      "22/22 [==============================] - 0s 3ms/step - loss: 0.4128 - accuracy: 0.8251\n",
      "Epoch = 15/30\n",
      "167/167 [==============================] - 2s 10ms/step - loss: 0.3935 - accuracy: 0.8302\n",
      "22/22 [==============================] - 0s 3ms/step - loss: 0.4120 - accuracy: 0.8222\n",
      "Epoch = 16/30\n",
      "167/167 [==============================] - 2s 10ms/step - loss: 0.3842 - accuracy: 0.8392\n",
      "22/22 [==============================] - 0s 3ms/step - loss: 0.4102 - accuracy: 0.8251\n",
      "Epoch = 17/30\n",
      "167/167 [==============================] - 2s 11ms/step - loss: 0.3824 - accuracy: 0.8381\n",
      "22/22 [==============================] - 0s 3ms/step - loss: 0.4089 - accuracy: 0.8236\n",
      "Epoch = 18/30\n",
      "167/167 [==============================] - 2s 10ms/step - loss: 0.3804 - accuracy: 0.8364\n",
      "22/22 [==============================] - 0s 3ms/step - loss: 0.4088 - accuracy: 0.8251\n",
      "Epoch = 19/30\n",
      "167/167 [==============================] - 2s 10ms/step - loss: 0.3728 - accuracy: 0.8427\n",
      "22/22 [==============================] - 0s 3ms/step - loss: 0.4069 - accuracy: 0.8265\n",
      "Epoch = 20/30\n",
      "167/167 [==============================] - 2s 10ms/step - loss: 0.3631 - accuracy: 0.8493\n",
      "22/22 [==============================] - 0s 4ms/step - loss: 0.4065 - accuracy: 0.8265\n",
      "Epoch = 21/30\n",
      "167/167 [==============================] - 2s 10ms/step - loss: 0.3588 - accuracy: 0.8489\n",
      "22/22 [==============================] - 0s 3ms/step - loss: 0.4048 - accuracy: 0.8280\n",
      "Epoch = 22/30\n",
      "167/167 [==============================] - 2s 10ms/step - loss: 0.3581 - accuracy: 0.8499\n",
      "22/22 [==============================] - 0s 3ms/step - loss: 0.4055 - accuracy: 0.8294\n",
      "Epoch = 23/30\n",
      "167/167 [==============================] - 2s 10ms/step - loss: 0.3569 - accuracy: 0.8519\n",
      "22/22 [==============================] - 0s 4ms/step - loss: 0.4042 - accuracy: 0.8280\n",
      "Epoch = 24/30\n",
      "167/167 [==============================] - 2s 10ms/step - loss: 0.3497 - accuracy: 0.8533\n",
      "22/22 [==============================] - 0s 3ms/step - loss: 0.4045 - accuracy: 0.8265\n",
      "Epoch = 25/30\n",
      "167/167 [==============================] - 2s 10ms/step - loss: 0.3438 - accuracy: 0.8574\n",
      "22/22 [==============================] - 0s 3ms/step - loss: 0.4037 - accuracy: 0.8222\n",
      "Epoch = 26/30\n",
      "167/167 [==============================] - 2s 10ms/step - loss: 0.3372 - accuracy: 0.8611\n",
      "22/22 [==============================] - 0s 3ms/step - loss: 0.4037 - accuracy: 0.8236\n",
      "Epoch = 27/30\n",
      "167/167 [==============================] - 2s 10ms/step - loss: 0.3342 - accuracy: 0.8630\n",
      "22/22 [==============================] - 0s 3ms/step - loss: 0.4034 - accuracy: 0.8192\n",
      "Epoch = 28/30\n",
      "167/167 [==============================] - 2s 11ms/step - loss: 0.3314 - accuracy: 0.8606\n",
      "22/22 [==============================] - 0s 3ms/step - loss: 0.4030 - accuracy: 0.8236\n",
      "Epoch = 29/30\n",
      "167/167 [==============================] - 2s 10ms/step - loss: 0.3339 - accuracy: 0.8617\n",
      "22/22 [==============================] - 0s 3ms/step - loss: 0.4033 - accuracy: 0.8222\n",
      "Epoch = 30/30\n",
      "167/167 [==============================] - 2s 10ms/step - loss: 0.3217 - accuracy: 0.8671\n",
      "22/22 [==============================] - 0s 3ms/step - loss: 0.4042 - accuracy: 0.8222\n"
     ]
    }
   ],
   "source": [
    "# training at 40 epochs and saving weights with smallest val_loss\n",
    "\n",
    "def train(xtrain,ytrain,xval,yval,epochs,batch_size,verbose=1,class_weight=None,filename='model.h5'):\n",
    "    if verbose > 0:\n",
    "        print(f'Epoch = 1/{epochs}')\n",
    "    metrics = {'accuracy':[],'val_accuracy':[],'loss':[],'val_loss':[]}\n",
    "    model.fit(xtrain,ytrain,epochs=1,batch_size=batch_size,verbose=verbose,class_weight=class_weight)\n",
    "    loss,acc = model.evaluate(xtrain,ytrain,verbose=0)\n",
    "    metrics['accuracy'].append(acc)\n",
    "    metrics['loss'].append(loss)\n",
    "    loss,acc = model.evaluate(xval,yval,verbose=verbose)\n",
    "    metrics['val_loss'].append(loss)\n",
    "    metrics['val_accuracy'].append(acc)\n",
    "    tf.keras.models.save_model(model,'model.h5')\n",
    "\n",
    "    for i in range(2,epochs+1):\n",
    "        if verbose > 0:\n",
    "            print(f'Epoch = {i}/{epochs}')\n",
    "        model.fit(xtrain,ytrain,epochs=1,batch_size=batch_size,verbose=verbose,class_weight=class_weight)\n",
    "        loss,acc = model.evaluate(xtrain,ytrain,verbose=0)\n",
    "        metrics['accuracy'].append(acc)\n",
    "        metrics['loss'].append(loss)\n",
    "        loss,acc = model.evaluate(xval,yval,verbose=verbose)\n",
    "        metrics['val_loss'].append(loss)\n",
    "        metrics['val_accuracy'].append(acc)\n",
    "        if loss<min(metrics['val_loss'][:-1]): \n",
    "            tf.keras.models.save_model(model,filename)\n",
    "        \n",
    "    return metrics\n",
    "        \n",
    "metrics = train(xtrain,ytrain,xval,yval,verbose=1,batch_size=32,epochs=30)\n",
    "        \n",
    "     "
   ]
  },
  {
   "cell_type": "code",
   "execution_count": 21,
   "id": "0446da41",
   "metadata": {},
   "outputs": [
    {
     "data": {
      "image/png": "[encoded data removed]",
      "text/plain": [
       "<Figure size 432x288 with 1 Axes>"
      ]
     },
     "metadata": {
      "needs_background": "light"
     },
     "output_type": "display_data"
    },
    {
     "data": {
      "image/png": "[encoded data removed]",
      "text/plain": [
       "<Figure size 432x288 with 1 Axes>"
      ]
     },
     "metadata": {
      "needs_background": "light"
     },
     "output_type": "display_data"
    }
   ],
   "source": [
    "# visualising training and validation metrics\n",
    "metrics = pd.DataFrame(metrics)\n",
    "metrics[['loss','val_loss']].plot()\n",
    "plt.show()\n",
    "metrics[['accuracy','val_accuracy']].plot()\n",
    "plt.show()"
   ]
  },
  {
   "cell_type": "code",
   "execution_count": 22,
   "id": "fe24ab82",
   "metadata": {},
   "outputs": [
    {
     "name": "stdout",
     "output_type": "stream",
     "text": [
      "22/22 [==============================] - 0s 3ms/step - loss: 0.4030 - accuracy: 0.8236\n",
      "50/50 [==============================] - 0s 3ms/step - loss: 0.4231 - accuracy: 0.8110\n",
      "167/167 [==============================] - 1s 4ms/step - loss: 0.3060 - accuracy: 0.8752\n"
     ]
    },
    {
     "data": {
      "text/plain": [
       "[0.3060190677642822, 0.8752111196517944]"
      ]
     },
     "execution_count": 22,
     "metadata": {},
     "output_type": "execute_result"
    }
   ],
   "source": [
    "# load model and evaluate\n",
    "model = tf.keras.models.load_model('model.h5',custom_objects={'attention':attention})\n",
    "model.evaluate(xval,yval) #validation data\n",
    "model.evaluate(xtest,ytest) #training data\n",
    "model.evaluate(xtrain,ytrain) #testing data"
   ]
  },
  {
   "cell_type": "code",
   "execution_count": 23,
   "id": "6fa8b0bc",
   "metadata": {},
   "outputs": [
    {
     "name": "stdout",
     "output_type": "stream",
     "text": [
      "              precision    recall  f1-score   support\n",
      "\n",
      "           0       0.82      0.88      0.85       386\n",
      "           1       0.83      0.75      0.79       300\n",
      "\n",
      "    accuracy                           0.82       686\n",
      "   macro avg       0.82      0.82      0.82       686\n",
      "weighted avg       0.82      0.82      0.82       686\n",
      "\n"
     ]
    },
    {
     "data": {
      "text/plain": [
       "<AxesSubplot:>"
      ]
     },
     "execution_count": 23,
     "metadata": {},
     "output_type": "execute_result"
    },
    {
     "data": {
      "image/png": "[encoded data removed]",
      "text/plain": [
       "<Figure size 432x288 with 2 Axes>"
      ]
     },
     "metadata": {
      "needs_background": "light"
     },
     "output_type": "display_data"
    }
   ],
   "source": [
    "# classification report and confusion matrix for validation data\n",
    "pred = np.round(model.predict(xval)).flatten()\n",
    "print(classification_report(yval,pred))\n",
    "sb.heatmap(confusion_matrix(yval,pred),annot=True,cmap='Blues',fmt='d')"
   ]
  },
  {
   "cell_type": "code",
   "execution_count": 24,
   "id": "eb41ce12",
   "metadata": {},
   "outputs": [
    {
     "name": "stdout",
     "output_type": "stream",
     "text": [
      "              precision    recall  f1-score   support\n",
      "\n",
      "           0       0.80      0.88      0.84       902\n",
      "           1       0.82      0.72      0.77       696\n",
      "\n",
      "    accuracy                           0.81      1598\n",
      "   macro avg       0.81      0.80      0.80      1598\n",
      "weighted avg       0.81      0.81      0.81      1598\n",
      "\n"
     ]
    },
    {
     "data": {
      "text/plain": [
       "<AxesSubplot:>"
      ]
     },
     "execution_count": 24,
     "metadata": {},
     "output_type": "execute_result"
    },
    {
     "data": {
      "image/png": "[encoded data removed]",
      "text/plain": [
       "<Figure size 432x288 with 2 Axes>"
      ]
     },
     "metadata": {
      "needs_background": "light"
     },
     "output_type": "display_data"
    }
   ],
   "source": [
    "# classification report and confusion matrix for test data\n",
    "pred = np.round(model.predict(xtest)).flatten()\n",
    "print(classification_report(ytest,pred))\n",
    "sb.heatmap(confusion_matrix(ytest,pred),annot=True,cmap='Blues',fmt='d')\n",
    "\n"
   ]
  },
  {
   "cell_type": "code",
   "execution_count": 27,
   "id": "603a62fa",
   "metadata": {
    "scrolled": false
   },
   "outputs": [
    {
     "name": "stdout",
     "output_type": "stream",
     "text": [
      "training 1/5\n",
      "\n",
      "              precision    recall  f1-score   support\n",
      "\n",
      "           0       0.77      0.83      0.80       868\n",
      "           1       0.75      0.66      0.70       655\n",
      "\n",
      "    accuracy                           0.76      1523\n",
      "   macro avg       0.76      0.75      0.75      1523\n",
      "weighted avg       0.76      0.76      0.76      1523\n",
      "\n"
     ]
    },
    {
     "data": {
      "image/png": "[encoded data removed]",
      "text/plain": [
       "<Figure size 432x288 with 2 Axes>"
      ]
     },
     "metadata": {
      "needs_background": "light"
     },
     "output_type": "display_data"
    },
    {
     "name": "stdout",
     "output_type": "stream",
     "text": [
      "\n",
      "################################################\n",
      "\n",
      "training 2/5\n",
      "\n",
      "              precision    recall  f1-score   support\n",
      "\n",
      "           0       0.74      0.76      0.75       869\n",
      "           1       0.67      0.65      0.66       654\n",
      "\n",
      "    accuracy                           0.71      1523\n",
      "   macro avg       0.71      0.71      0.71      1523\n",
      "weighted avg       0.71      0.71      0.71      1523\n",
      "\n"
     ]
    },
    {
     "data": {
      "image/png": "[encoded data removed]",
      "text/plain": [
       "<Figure size 432x288 with 2 Axes>"
      ]
     },
     "metadata": {
      "needs_background": "light"
     },
     "output_type": "display_data"
    },
    {
     "name": "stdout",
     "output_type": "stream",
     "text": [
      "\n",
      "################################################\n",
      "\n",
      "training 3/5\n",
      "\n",
      "              precision    recall  f1-score   support\n",
      "\n",
      "           0       0.79      0.72      0.76       869\n",
      "           1       0.67      0.75      0.71       654\n",
      "\n",
      "    accuracy                           0.73      1523\n",
      "   macro avg       0.73      0.74      0.73      1523\n",
      "weighted avg       0.74      0.73      0.74      1523\n",
      "\n"
     ]
    },
    {
     "data": {
      "image/png": "[encoded data removed]",
      "text/plain": [
       "<Figure size 432x288 with 2 Axes>"
      ]
     },
     "metadata": {
      "needs_background": "light"
     },
     "output_type": "display_data"
    },
    {
     "name": "stdout",
     "output_type": "stream",
     "text": [
      "\n",
      "################################################\n",
      "\n",
      "training 4/5\n",
      "\n",
      "              precision    recall  f1-score   support\n",
      "\n",
      "           0       0.72      0.82      0.76       868\n",
      "           1       0.70      0.57      0.63       654\n",
      "\n",
      "    accuracy                           0.71      1522\n",
      "   macro avg       0.71      0.69      0.70      1522\n",
      "weighted avg       0.71      0.71      0.71      1522\n",
      "\n"
     ]
    },
    {
     "data": {
      "image/png": "[encoded data removed]",
      "text/plain": [
       "<Figure size 432x288 with 2 Axes>"
      ]
     },
     "metadata": {
      "needs_background": "light"
     },
     "output_type": "display_data"
    },
    {
     "name": "stdout",
     "output_type": "stream",
     "text": [
      "\n",
      "################################################\n",
      "\n",
      "training 5/5\n",
      "\n",
      "              precision    recall  f1-score   support\n",
      "\n",
      "           0       0.83      0.84      0.83       868\n",
      "           1       0.78      0.77      0.78       654\n",
      "\n",
      "    accuracy                           0.81      1522\n",
      "   macro avg       0.81      0.80      0.81      1522\n",
      "weighted avg       0.81      0.81      0.81      1522\n",
      "\n"
     ]
    },
    {
     "data": {
      "image/png": "[encoded data removed]",
      "text/plain": [
       "<Figure size 432x288 with 2 Axes>"
      ]
     },
     "metadata": {
      "needs_background": "light"
     },
     "output_type": "display_data"
    },
    {
     "name": "stdout",
     "output_type": "stream",
     "text": [
      "\n",
      "################################################\n",
      "\n",
      "avg f1-score : 0.6957944172673937\n",
      "avg accuracy : 0.7458333584986406\n"
     ]
    }
   ],
   "source": [
    "# check performance with kfold\n",
    "\n",
    "n = 5\n",
    "acc = 0\n",
    "f1 = 0\n",
    "sfk = StratifiedKFold(n_splits=n)\n",
    "sfk.get_n_splits(x,y)\n",
    "count=1\n",
    "for train_idx,test_idx in sfk.split(x,y):\n",
    "    xtrain,xtest = x[train_idx],x[test_idx]\n",
    "    ytrain,ytest = y[train_idx],y[test_idx]\n",
    "    \n",
    "    tk = Tokenizer()\n",
    "    tk.fit_on_texts(x)\n",
    "\n",
    "    seq = tk.texts_to_sequences(xtrain)\n",
    "    xtrain = pad_sequences(seq,maxlen=maxlen,padding='post')\n",
    "\n",
    "    seq = tk.texts_to_sequences(xtest)\n",
    "    xtest = pad_sequences(seq,maxlen=maxlen,padding='post')\n",
    "\n",
    "    x_voc = len(tk.word_counts)+1\n",
    "    \n",
    "    emb = np.zeros((x_voc,300))\n",
    "    for w,idx in tk.word_index.items():\n",
    "        try: emb[idx] = glove_embeddings[w]\n",
    "        except: pass\n",
    "        \n",
    "    adam = Adam(learning_rate=0.00001)\n",
    "    model = get_model(maxlen,300,adam,[emb])\n",
    "    print(f'training {count}/{n}')\n",
    "    model_filename = 'kfold_model.h5'\n",
    "    train(xtrain,ytrain,xtest,ytest,epochs=30,batch_size=32,verbose=0,filename=model_filename)\n",
    "    model = tf.keras.models.load_model(model_filename,custom_objects={'attention':attention})\n",
    "    pred = np.round(model.predict(xtest)).flatten()\n",
    "    print()\n",
    "    f1 += f1_score(ytest,pred)\n",
    "    acc += accuracy_score(ytest,pred)\n",
    "    \n",
    "    print(classification_report(ytest,pred))\n",
    "    sb.heatmap(confusion_matrix(ytest,pred),annot=True,cmap='Blues',fmt='d')\n",
    "    plt.show()\n",
    "    print(\"\\n################################################\\n\")\n",
    "    \n",
    "    count+=1\n",
    "    \n",
    "print('avg f1-score :',f1/n)\n",
    "print('avg accuracy :',acc/n)"
   ]
  },
  {
   "cell_type": "code",
   "execution_count": 26,
   "id": "60154121",
   "metadata": {},
   "outputs": [],
   "source": [
    "# submission\n",
    "\n",
    "test = pd.read_csv('test.csv',encoding='utf-8')\n",
    "test.keyword = test.keyword.fillna(test.keyword.mode()[0])\n",
    "test.keyword = test.keyword.apply(lambda x: clean_keyword(x))\n",
    "test = test[['id','text','keyword']].fillna('nill')\n",
    "\n",
    "for i in test[test.keyword=='nill'].index:\n",
    "    text = test.clean_text[i]\n",
    "    ex = KeywordExtractor(n=1)\n",
    "    kw = ex.extract_keywords(text)\n",
    "    kw = [k[0] for k in kw if k[0] in test.keyword.unique()]\n",
    "    if len(kw)>0:\n",
    "        test.keyword.loc[i] = kw[0]\n",
    "    else:\n",
    "        test.keyword.loc[i] = test.keyword.mode()[0] \n",
    "\n",
    "test.text = test.keyword + ' '+ test.text\n",
    "\n",
    "x_sub = test.text.apply(lambda x: clean_text(x))\n",
    "\n",
    "seq = tk.texts_to_sequences(x_sub)\n",
    "x_sub = pad_sequences(seq,maxlen=maxlen,padding='post')\n",
    "\n",
    "pred = np.round(model.predict(x_sub)).flatten()\n",
    "\n",
    "test['target'] = pred\n",
    "test.target = test.target.apply(lambda x: int(x))\n",
    "\n",
    "test[['id','target']].to_csv('D:/submission.csv',index=False)"
   ]
  }
 ],
 "metadata": {
  "kernelspec": {
   "display_name": "Python 3 (ipykernel)",
   "language": "python",
   "name": "python3"
  },
  "language_info": {
   "codemirror_mode": {
    "name": "ipython",
    "version": 3
   },
   "file_extension": ".py",
   "mimetype": "text/x-python",
   "name": "python",
   "nbconvert_exporter": "python",
   "pygments_lexer": "ipython3",
   "version": "3.8.6"
  }
 },
 "nbformat": 4,
 "nbformat_minor": 5
}
